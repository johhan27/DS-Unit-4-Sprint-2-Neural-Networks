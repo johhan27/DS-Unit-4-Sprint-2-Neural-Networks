{
  "nbformat": 4,
  "nbformat_minor": 0,
  "metadata": {
    "colab": {
      "name": "March22 DS_424_Deploy_Assignment.ipynb",
      "provenance": [],
      "collapsed_sections": [],
      "include_colab_link": true
    },
    "kernelspec": {
      "display_name": "py37  (Python3)",
      "language": "python",
      "name": "py37"
    },
    "language_info": {
      "codemirror_mode": {
        "name": "ipython",
        "version": 3
      },
      "file_extension": ".py",
      "mimetype": "text/x-python",
      "name": "python",
      "nbconvert_exporter": "python",
      "pygments_lexer": "ipython3",
      "version": "3.7.0"
    },
    "nteract": {
      "version": "0.22.4"
    },
    "accelerator": "GPU"
  },
  "cells": [
    {
      "cell_type": "markdown",
      "metadata": {
        "id": "view-in-github",
        "colab_type": "text"
      },
      "source": [
        "<a href=\"https://colab.research.google.com/github/johhan27/DS-Unit-4-Sprint-2-Neural-Networks/blob/main/March22_DS_424_Deploy_Assignment.ipynb\" target=\"_parent\"><img src=\"https://colab.research.google.com/assets/colab-badge.svg\" alt=\"Open In Colab\"/></a>"
      ]
    },
    {
      "cell_type": "markdown",
      "metadata": {
        "id": "NGGrt9EYlCqY"
      },
      "source": [
        "\n",
        "\n",
        "\n",
        "# *Data Science Unit 4 Sprint 2 Assignment 4*\n",
        "\n",
        "Continue to use TensorFlow Keras & a sample of the [Quickdraw dataset](https://github.com/googlecreativelab/quickdraw-dataset) to build a sketch classification model. The dataset has been sampled to only 10 classes and 10000 observations per class. Apply regularization techniques to your model. \n",
        "\n",
        "**Don't forget to switch to GPU on Colab!**\n",
        "\n",
        "\n",
        "## Objectives \n",
        "\n",
        "In lecture, you were exposed to several regularization techniques: Lp space regularization, Max Norm weight constraints, and dropout regularization.\n",
        "\n",
        "1: Explore the effects of these regularization techniques on model performance and on the learned model weights. \n",
        "\n",
        "2: Review how to save a model and how to retrieve the saved model from a file.\n",
        "\n",
        "\n",
        "\n"
      ]
    },
    {
      "cell_type": "markdown",
      "metadata": {
        "id": "ptJ2b3wk62Ud"
      },
      "source": [
        "#### Import libraries"
      ]
    },
    {
      "cell_type": "code",
      "metadata": {
        "id": "USXjs7Hk71Hy"
      },
      "source": [
        "# native libraries \n",
        "import os\n",
        "from time import time \n",
        "\n",
        "# data analysis libraries \n",
        "import numpy as np\n",
        "import pandas as pd\n",
        "import matplotlib.pyplot as plt\n",
        "import seaborn as sns\n",
        "\n",
        "# deep learning libraries \n",
        "import tensorflow as tf\n",
        "from tensorflow.keras import Sequential\n",
        "from tensorflow.keras.callbacks import EarlyStopping, TensorBoard\n",
        "from tensorflow.keras.layers import Flatten, Dense, Dropout\n",
        "from tensorflow.keras.layers import ReLU\n",
        "from tensorflow.keras.initializers import GlorotUniform\n",
        "from tensorflow.keras.utils import get_file\n",
        "\n",
        "\n",
        "\n",
        "# regularizers \n",
        "from tensorflow.keras.regularizers import l2, l1\n",
        "from tensorflow.keras.constraints import MaxNorm\n",
        "\n",
        "# required for compatibility between sklearn and keras\n",
        "from tensorflow.keras.wrappers.scikit_learn import KerasClassifier\n",
        "\n",
        "from sklearn.model_selection import GridSearchCV\n",
        "from sklearn.model_selection import train_test_split\n",
        "\n",
        "# native python unit test library\n",
        "from unittest import TestCase\n",
        "\n",
        "%matplotlib inline"
      ],
      "execution_count": 1,
      "outputs": []
    },
    {
      "cell_type": "markdown",
      "metadata": {
        "id": "nDjNx1aVBfGU"
      },
      "source": [
        "-----\n",
        "# Part 1: GridSearch Experiments \n",
        "\n",
        "The next set of experiments will involve gridsearching regularization parameter values. \n",
        "\n",
        "The rest of the notebook will actually require very little coding on your part. Instead, the focus is for you to run those gridsearches and answer the questions at the end of each experiment. Those questions are designed to help you capture the insights that there are to learn from each of the experiments. \n",
        "\n",
        "All of the following experiments are designed to help you better understand the relationship between the various regularization techniques and how they affect model performance. \n",
        "\n",
        "\n",
        "### Build Model\n",
        "\n",
        "Let's build out the model that we'll be using all throughout our experiments. \n",
        "\n",
        "Remember that **the whole point of regularization is to prevent overfitting.**\n",
        "\n",
        "\n",
        "![](https://hackernoon.com/hn-images/1*vuZxFMi5fODz2OEcpG-S1g.png)\n",
        "\n",
        "Overfitting happens when our models are too complex, so in order to see a benefit from the use of regularization techniques we need to build a relatively complex model. \n",
        "\n",
        "Having said that, you might not have the computational resource to be able to train a complex model in a reasonable amount of time. So if this describes you, then you might want to consider using `build_simple_model`. Otherwise, use `build_complex_model`. \n",
        "\n",
        "In this notebook, we'll use  `build_complex_model` to run our experiments. \n",
        "\n",
        "**NOTE:** Whichever function you end up using to build a model, take time to read through the code and make sure you understand what is happening. "
      ]
    },
    {
      "cell_type": "markdown",
      "source": [
        "### Load the `quickdraw10` data set\n",
        "using code provided in the Module 3 assignment."
      ],
      "metadata": {
        "id": "BhyxXDgXfuHs"
      }
    },
    {
      "cell_type": "code",
      "source": [
        "# YOUR CODE HERE\n",
        "\n",
        "def load_quickdraw10():\n",
        "\n",
        "  URL_ = \"https://github.com/LambdaSchool/DS-Unit-4-Sprint-2-Neural-Networks/blob/main/quickdraw10.npz?raw=true\"\n",
        "\n",
        "  path_to_zip = get_file('./quickdraw10.npz', origin=URL_, extract=False)\n",
        "\n",
        "  data = np.load(path_to_zip)\n",
        "\n",
        "  #normalization\n",
        "\n",
        "  max_pixel_value = 255\n",
        "  X = data['arr_0'] / max_pixel_value\n",
        "  Y = data['arr_1']\n",
        "\n",
        "  return train_test_split(X, Y, shuffle=True)"
      ],
      "metadata": {
        "id": "9m7GEmeWfzYr"
      },
      "execution_count": 3,
      "outputs": []
    },
    {
      "cell_type": "code",
      "source": [
        "X_train, X_test, y_train, y_test = load_quickdraw10()"
      ],
      "metadata": {
        "colab": {
          "base_uri": "https://localhost:8080/"
        },
        "id": "ZMkwvc-QIDxE",
        "outputId": "728f2707-3b90-4d35-80dd-26fe7f654f42"
      },
      "execution_count": 4,
      "outputs": [
        {
          "output_type": "stream",
          "name": "stdout",
          "text": [
            "Downloading data from https://github.com/LambdaSchool/DS-Unit-4-Sprint-2-Neural-Networks/blob/main/quickdraw10.npz?raw=true\n",
            "25427968/25421363 [==============================] - 0s 0us/step\n",
            "25436160/25421363 [==============================] - 0s 0us/step\n"
          ]
        }
      ]
    },
    {
      "cell_type": "code",
      "source": [
        "X_train.shape"
      ],
      "metadata": {
        "colab": {
          "base_uri": "https://localhost:8080/"
        },
        "id": "OPNhSnS1Iqe-",
        "outputId": "95aa24dc-4f61-4417-9027-ce34bc6d7b16"
      },
      "execution_count": 6,
      "outputs": [
        {
          "output_type": "execute_result",
          "data": {
            "text/plain": [
              "(75000, 784)"
            ]
          },
          "metadata": {},
          "execution_count": 6
        }
      ]
    },
    {
      "cell_type": "code",
      "source": [
        "np.unique(y_train)"
      ],
      "metadata": {
        "colab": {
          "base_uri": "https://localhost:8080/"
        },
        "id": "63kNpz7oIvOQ",
        "outputId": "7a5ffd84-c1b1-4d8d-db7f-153713d4189f"
      },
      "execution_count": 7,
      "outputs": [
        {
          "output_type": "execute_result",
          "data": {
            "text/plain": [
              "array([0, 1, 2, 3, 4, 5, 6, 7, 8, 9])"
            ]
          },
          "metadata": {},
          "execution_count": 7
        }
      ]
    },
    {
      "cell_type": "markdown",
      "source": [
        "### Build the model"
      ],
      "metadata": {
        "id": "X3qyAkpDf2Uz"
      }
    },
    {
      "cell_type": "code",
      "source": [
        "def build_complex_model(Lp_reg=None, reg_penalty=None, dropout_prob=0.0, maxnorm_wc=None):\n",
        "    \"\"\"\n",
        "    Build and return a regularized 3 hidden layer FCFF model \n",
        "    \n",
        "    Parameters\n",
        "    ----------\n",
        "    Lp_reg: None or object\n",
        "        If object, Lp_reg is either l1 or l2 regularization \n",
        "        If None, that means that l1 or l2 regularization will not be used.\n",
        "     \n",
        "    reg_penalty: None or float\n",
        "        If float, reg_penalty is a value typically between 1.0 and 0.0001\n",
        "        This is the regularization strength for l1 or l2 \n",
        "        \n",
        "        \n",
        "    dropout_prob: float\n",
        "        This is the probability that dropout regularization will exclude a node from a training iteration. \n",
        "        If this value is 0.0, that means that dropout will not be used. \n",
        "        \n",
        "    maxnorm_wc: None or float\n",
        "        If float, maxnorm_wc is the weight constraint that is used for Max Norm regularization\n",
        "        If None, that means that Max Norm regularization will not be used.\n",
        "        \n",
        "        \n",
        "    Return\n",
        "    ------\n",
        "    model: compiled Keras model\n",
        "    \"\"\"\n",
        "\n",
        "    # specify the input size\n",
        "    input_dim = 784 # YOUR CODE HERE\n",
        "\n",
        "    # specify the number of neurons in the output layer\n",
        "    n_output = 10 # YOUR CODE HERE\n",
        "\n",
        "    # if reg_type is not None, then pass in the penalty strength to whatever form of Lp space regularization this is \n",
        "    if Lp_reg is not None:\n",
        "        Lp_regularizer = Lp_reg(reg_penalty)\n",
        "    else:\n",
        "        Lp_regularizer = None\n",
        "                \n",
        "    if maxnorm_wc is not None:\n",
        "        wc = MaxNorm(max_value=maxnorm_wc)\n",
        "    else:\n",
        "        wc = None\n",
        "\n",
        "\n",
        "    # instantiate Sequential class\n",
        "    model = Sequential([    \n",
        "\n",
        "    # hidden layer 1\n",
        "    Dense(500, kernel_regularizer=Lp_regularizer , kernel_constraint=wc, input_dim=input_dim), # remember that Keras refers to weight matrix as a kernel, i.e. weights = kernel\n",
        "    # act func 1\n",
        "    ReLU(negative_slope=0.01),\n",
        "    Dropout(dropout_prob),\n",
        "\n",
        "    # hidden layer 2\n",
        "    Dense(250, kernel_regularizer=Lp_regularizer, kernel_constraint=wc),\n",
        "    # act func 2\n",
        "    ReLU(negative_slope=0.01),\n",
        "    Dropout(dropout_prob),\n",
        "\n",
        "    # hidden layer 3\n",
        "    Dense(100, kernel_regularizer=Lp_regularizer, kernel_constraint=wc),\n",
        "    # act func 3\n",
        "    ReLU(negative_slope=0.01),\n",
        "    Dropout(dropout_prob),\n",
        "\n",
        "    # output layer   \n",
        "    Dense(n_output, activation=\"softmax\")  \n",
        "\n",
        "    ])\n",
        "    # compile model \n",
        "    model.compile(loss=\"sparse_categorical_crossentropy\", \n",
        "                 optimizer=\"adam\", \n",
        "                 metrics=[\"accuracy\"])\n",
        "    \n",
        "    return model"
      ],
      "metadata": {
        "id": "Rl7fR1Vvqauv"
      },
      "execution_count": 8,
      "outputs": []
    },
    {
      "cell_type": "markdown",
      "metadata": {
        "id": "Tf7sg_qWBfGV"
      },
      "source": [
        "Again, only use `build_simple_model` instead of `build_complex_model` if you're working on a machine with very limited computational resources. "
      ]
    },
    {
      "cell_type": "code",
      "metadata": {
        "id": "2ZDOyeFUBfGV"
      },
      "source": [
        "# def build_simple_model(Lp_reg=None, reg_penalty=None, dropout_prob=0, maxnorm_wc=None):\n",
        "#     \"\"\"\n",
        "#     Build and return a regularized 1 hidden layer FCFF model \n",
        "    \n",
        "#     Parameters\n",
        "#     ----------\n",
        "#     Lp_reg: None or object\n",
        "#         If object, Lp_reg is either l1 or l2 regularization \n",
        "#         If None, that means that l1 or l2 regularization will not be used.\n",
        "     \n",
        "#     reg_penalty: None or float\n",
        "#         If float, reg_penalty is a value typically between 1.0 and 0.0001\n",
        "#         This is the regularization strength for l1 or l2 \n",
        "        \n",
        "        \n",
        "#     dropout_prob: float\n",
        "#         This is the probability that dropout regularization will exclude a node from a training iteration. \n",
        "#         If this value is 0.0, that means that dropout will not be used. \n",
        "        \n",
        "#     maxnorm_wc: None or float\n",
        "#         If float, maxnorm_wc is the weight constraint that is used for Max Norm regularization\n",
        "#         If None, that means that Max Norm regularization will not be used.\n",
        "        \n",
        "        \n",
        "#     Return\n",
        "#     ------\n",
        "#     model: compiled Keras model\n",
        "#     \"\"\"\n",
        "\n",
        "#    # specify the input size\n",
        "#    input_dim = # YOUR CODE HERE\n",
        "\n",
        "#    # specify the number of neurons in the output layer\n",
        "#    n_output = # YOUR CODE HERE\n",
        "\n",
        "#     if Lp_reg is not None:\n",
        "#         Lp_regularizer = Lp_reg(reg_penalty)\n",
        "#     else:\n",
        "#         Lp_regularizer = None\n",
        "\n",
        "#     # instantiate Sequential class\n",
        "#     model = Sequential([\n",
        "\n",
        "#     # hidden layer 1\n",
        "#     Dense(128,  kernel_regularizer=Lp_regularizer, kernel_constraint=maxnorm_wc, input_dim=input_dim), # remember that Keras refers to weight matrix as a kernel, i.e. weights = kernel\n",
        "#     # act func 1\n",
        "#     ReLU(negative_slope=0.01),\n",
        "#     Dropout(p_dropout),\n",
        "\n",
        "#     # output layer   \n",
        "#     Dense(n_output, activation=\"softmax\")  \n",
        "\n",
        "#     ])\n",
        "#     # compile model \n",
        "#     model.compile(loss=\"sparse_categorical_crossentropy\", \n",
        "#                  optimizer=\"adam\", \n",
        "#                  metrics=[\"accuracy\"])\n",
        "    \n",
        "#     return model"
      ],
      "execution_count": null,
      "outputs": []
    },
    {
      "cell_type": "markdown",
      "metadata": {
        "id": "RIAKpcTEBfGW"
      },
      "source": [
        "Since we'll be using sklearn's `GridsearchCV` class, we need to wrap our Keras models in `KerasClassifier`"
      ]
    },
    {
      "cell_type": "code",
      "source": [
        "# wrap KerasClassifier around build_model for compatibility with sklearn GridsearchCV \n",
        "model = KerasClassifier(build_fn = build_complex_model)"
      ],
      "metadata": {
        "colab": {
          "base_uri": "https://localhost:8080/"
        },
        "id": "IstAk4cgeOsX",
        "outputId": "76ddb2b1-a0b1-4035-d30d-0f12336fbdf0"
      },
      "execution_count": 9,
      "outputs": [
        {
          "output_type": "stream",
          "name": "stderr",
          "text": [
            "/usr/local/lib/python3.7/dist-packages/ipykernel_launcher.py:2: DeprecationWarning: KerasClassifier is deprecated, use Sci-Keras (https://github.com/adriangb/scikeras) instead. See https://www.adriangb.com/scikeras/stable/migration.html for help migrating.\n",
            "  \n"
          ]
        }
      ]
    },
    {
      "cell_type": "markdown",
      "metadata": {
        "id": "6LJi-YVMBfGW"
      },
      "source": [
        "-------\n",
        "\n",
        "# Experiment 1: Identify the relationship between model performance and L2 penalty strength\n",
        "\n",
        "![](https://www.researchgate.net/publication/334159821/figure/fig1/AS:776025558495234@1562030319993/Ridge-regression-variable-selection.png)\n",
        "\n",
        "_Note: <br>\n",
        "In the right panel of the above diagram, **SSE** <br>\n",
        "stands for \"Sum of Squared Errors\".<br>\n",
        "In the left panel, **ESS** is a typo that should read **SSE**._<br>\n",
        "\n",
        "We are going to run a gridsearch solely on the L2 regularization penalty value and see the effect this has on model performance. \n",
        "\n",
        "By running a gridseach on only a single hyperparameter (while using the same data and model) we can isolate the effect of that hyperparameter. <br><br>\n"
      ]
    },
    {
      "cell_type": "code",
      "metadata": {
        "id": "dxJ5Bc6HF2C0"
      },
      "source": [
        "# build out our hyperparameter dictionary \n",
        "hyper_parameters = {\n",
        "    # take note that Lp_reg penalty/strength values are in powers of 10 \n",
        "    \"reg_penalty\": [10.0, 1.0, 0.1, 0.01, 0.001, 0.0001, 0.00001], \n",
        "    # Since we only want to test l2, provide l2 as the sole option \n",
        "    \"Lp_reg\": [l2],\n",
        "    # default is 1, in order to change it we must provide value here because we can't provide a parameter value for model.fit() directly when using gridsearch\n",
        "    # protip: consider changing epochs to 1 if the gridsearch run-time is too long for you\n",
        "    \"epochs\": [3] \n",
        "}"
      ],
      "execution_count": 10,
      "outputs": []
    },
    {
      "cell_type": "code",
      "source": [
        "start=time()\n",
        "# takes about 7 min on Colab with GPU\n",
        "# Create and run Grid Search\n",
        "grid = GridSearchCV(estimator=model, \n",
        "                    param_grid=hyper_parameters, \n",
        "                    n_jobs=-3, \n",
        "                    verbose=1, \n",
        "                    cv=3)\n",
        "\n",
        "grid_result = grid.fit(X_train, y_train)\n",
        "end=time()"
      ],
      "metadata": {
        "id": "qMRyjO6Gbl5I",
        "colab": {
          "base_uri": "https://localhost:8080/"
        },
        "outputId": "5093a433-cfd5-4d56-8e30-b2e4f4649642"
      },
      "execution_count": 11,
      "outputs": [
        {
          "output_type": "stream",
          "name": "stdout",
          "text": [
            "Fitting 3 folds for each of 7 candidates, totalling 21 fits\n",
            "Epoch 1/3\n",
            "1563/1563 [==============================] - 7s 3ms/step - loss: 165.5943 - accuracy: 0.1002\n",
            "Epoch 2/3\n",
            "1563/1563 [==============================] - 4s 3ms/step - loss: 2.3029 - accuracy: 0.0999\n",
            "Epoch 3/3\n",
            "1563/1563 [==============================] - 4s 3ms/step - loss: 2.3029 - accuracy: 0.1006\n",
            "782/782 [==============================] - 2s 2ms/step - loss: 2.3032 - accuracy: 0.0990\n",
            "Epoch 1/3\n",
            "1563/1563 [==============================] - 5s 3ms/step - loss: 166.4217 - accuracy: 0.0991\n",
            "Epoch 2/3\n",
            "1563/1563 [==============================] - 5s 3ms/step - loss: 2.3028 - accuracy: 0.1030\n",
            "Epoch 3/3\n",
            "1563/1563 [==============================] - 5s 3ms/step - loss: 2.3030 - accuracy: 0.1003\n",
            "782/782 [==============================] - 2s 2ms/step - loss: 2.3030 - accuracy: 0.0989\n",
            "Epoch 1/3\n",
            "1563/1563 [==============================] - 5s 3ms/step - loss: 166.4389 - accuracy: 0.1014\n",
            "Epoch 2/3\n",
            "1563/1563 [==============================] - 5s 3ms/step - loss: 2.3028 - accuracy: 0.0994\n",
            "Epoch 3/3\n",
            "1563/1563 [==============================] - 5s 3ms/step - loss: 2.3029 - accuracy: 0.1008\n",
            "782/782 [==============================] - 2s 2ms/step - loss: 2.3031 - accuracy: 0.0981\n",
            "Epoch 1/3\n",
            "1563/1563 [==============================] - 5s 3ms/step - loss: 18.6802 - accuracy: 0.0987\n",
            "Epoch 2/3\n",
            "1563/1563 [==============================] - 4s 3ms/step - loss: 2.3028 - accuracy: 0.0993\n",
            "Epoch 3/3\n",
            "1563/1563 [==============================] - 4s 3ms/step - loss: 2.3028 - accuracy: 0.0994\n",
            "782/782 [==============================] - 2s 2ms/step - loss: 2.3028 - accuracy: 0.1018\n",
            "Epoch 1/3\n",
            "1563/1563 [==============================] - 5s 3ms/step - loss: 18.6959 - accuracy: 0.1027\n",
            "Epoch 2/3\n",
            "1563/1563 [==============================] - 4s 3ms/step - loss: 2.3028 - accuracy: 0.0991\n",
            "Epoch 3/3\n",
            "1563/1563 [==============================] - 4s 3ms/step - loss: 2.3027 - accuracy: 0.1018\n",
            "782/782 [==============================] - 2s 2ms/step - loss: 2.3028 - accuracy: 0.1010\n",
            "Epoch 1/3\n",
            "1563/1563 [==============================] - 5s 3ms/step - loss: 18.6719 - accuracy: 0.1030\n",
            "Epoch 2/3\n",
            "1563/1563 [==============================] - 5s 3ms/step - loss: 2.3028 - accuracy: 0.1000\n",
            "Epoch 3/3\n",
            "1563/1563 [==============================] - 5s 3ms/step - loss: 2.3027 - accuracy: 0.0991\n",
            "782/782 [==============================] - 2s 2ms/step - loss: 2.3029 - accuracy: 0.0980\n",
            "Epoch 1/3\n",
            "1563/1563 [==============================] - 5s 3ms/step - loss: 3.6039 - accuracy: 0.4648\n",
            "Epoch 2/3\n",
            "1563/1563 [==============================] - 5s 3ms/step - loss: 1.6711 - accuracy: 0.5759\n",
            "Epoch 3/3\n",
            "1563/1563 [==============================] - 5s 3ms/step - loss: 1.5904 - accuracy: 0.5983\n",
            "782/782 [==============================] - 2s 2ms/step - loss: 1.5539 - accuracy: 0.5969\n",
            "Epoch 1/3\n",
            "1563/1563 [==============================] - 5s 3ms/step - loss: 3.6337 - accuracy: 0.3824\n",
            "Epoch 2/3\n",
            "1563/1563 [==============================] - 5s 3ms/step - loss: 1.7767 - accuracy: 0.4405\n",
            "Epoch 3/3\n",
            "1563/1563 [==============================] - 5s 3ms/step - loss: 1.7104 - accuracy: 0.4983\n",
            "782/782 [==============================] - 2s 2ms/step - loss: 1.6593 - accuracy: 0.5465\n",
            "Epoch 1/3\n",
            "1563/1563 [==============================] - 5s 3ms/step - loss: 3.5879 - accuracy: 0.4724\n",
            "Epoch 2/3\n",
            "1563/1563 [==============================] - 5s 3ms/step - loss: 1.6657 - accuracy: 0.5808\n",
            "Epoch 3/3\n",
            "1563/1563 [==============================] - 5s 3ms/step - loss: 1.5896 - accuracy: 0.5990\n",
            "782/782 [==============================] - 2s 2ms/step - loss: 1.5481 - accuracy: 0.6389\n",
            "Epoch 1/3\n",
            "1563/1563 [==============================] - 5s 3ms/step - loss: 1.6328 - accuracy: 0.7319\n",
            "Epoch 2/3\n",
            "1563/1563 [==============================] - 5s 3ms/step - loss: 1.0369 - accuracy: 0.7819\n",
            "Epoch 3/3\n",
            "1563/1563 [==============================] - 5s 3ms/step - loss: 0.9593 - accuracy: 0.7944\n",
            "782/782 [==============================] - 2s 2ms/step - loss: 0.9491 - accuracy: 0.7921\n",
            "Epoch 1/3\n",
            "1563/1563 [==============================] - 5s 3ms/step - loss: 1.6326 - accuracy: 0.7313\n",
            "Epoch 2/3\n",
            "1563/1563 [==============================] - 5s 3ms/step - loss: 1.0337 - accuracy: 0.7807\n",
            "Epoch 3/3\n",
            "1563/1563 [==============================] - 5s 3ms/step - loss: 0.9526 - accuracy: 0.7957\n",
            "782/782 [==============================] - 2s 2ms/step - loss: 0.9220 - accuracy: 0.8034\n",
            "Epoch 1/3\n",
            "1563/1563 [==============================] - 5s 3ms/step - loss: 1.6379 - accuracy: 0.7369\n",
            "Epoch 2/3\n",
            "1563/1563 [==============================] - 5s 3ms/step - loss: 1.0256 - accuracy: 0.7838\n",
            "Epoch 3/3\n",
            "1563/1563 [==============================] - 5s 3ms/step - loss: 0.9453 - accuracy: 0.7978\n",
            "782/782 [==============================] - 2s 2ms/step - loss: 0.9194 - accuracy: 0.8055\n",
            "Epoch 1/3\n",
            "1563/1563 [==============================] - 5s 3ms/step - loss: 1.1025 - accuracy: 0.7864\n",
            "Epoch 2/3\n",
            "1563/1563 [==============================] - 5s 3ms/step - loss: 0.7473 - accuracy: 0.8395\n",
            "Epoch 3/3\n",
            "1563/1563 [==============================] - 5s 3ms/step - loss: 0.6674 - accuracy: 0.8539\n",
            "782/782 [==============================] - 2s 2ms/step - loss: 0.7064 - accuracy: 0.8357\n",
            "Epoch 1/3\n",
            "1563/1563 [==============================] - 5s 3ms/step - loss: 1.1131 - accuracy: 0.7871\n",
            "Epoch 2/3\n",
            "1563/1563 [==============================] - 5s 3ms/step - loss: 0.7487 - accuracy: 0.8383\n",
            "Epoch 3/3\n",
            "1563/1563 [==============================] - 5s 3ms/step - loss: 0.6682 - accuracy: 0.8526\n",
            "782/782 [==============================] - 2s 2ms/step - loss: 0.7095 - accuracy: 0.8364\n",
            "Epoch 1/3\n",
            "1563/1563 [==============================] - 5s 3ms/step - loss: 1.1106 - accuracy: 0.7916\n",
            "Epoch 2/3\n",
            "1563/1563 [==============================] - 5s 3ms/step - loss: 0.7536 - accuracy: 0.8395\n",
            "Epoch 3/3\n",
            "1563/1563 [==============================] - 5s 3ms/step - loss: 0.6697 - accuracy: 0.8553\n",
            "782/782 [==============================] - 2s 2ms/step - loss: 0.6914 - accuracy: 0.8427\n",
            "Epoch 1/3\n",
            "1563/1563 [==============================] - 5s 3ms/step - loss: 0.7603 - accuracy: 0.7970\n",
            "Epoch 2/3\n",
            "1563/1563 [==============================] - 5s 3ms/step - loss: 0.5701 - accuracy: 0.8599\n",
            "Epoch 3/3\n",
            "1563/1563 [==============================] - 5s 3ms/step - loss: 0.5116 - accuracy: 0.8800\n",
            "782/782 [==============================] - 2s 2ms/step - loss: 0.5963 - accuracy: 0.8546\n",
            "Epoch 1/3\n",
            "1563/1563 [==============================] - 5s 3ms/step - loss: 0.7557 - accuracy: 0.7993\n",
            "Epoch 2/3\n",
            "1563/1563 [==============================] - 5s 3ms/step - loss: 0.5747 - accuracy: 0.8599\n",
            "Epoch 3/3\n",
            "1563/1563 [==============================] - 5s 3ms/step - loss: 0.5103 - accuracy: 0.8807\n",
            "782/782 [==============================] - 2s 2ms/step - loss: 0.5788 - accuracy: 0.8601\n",
            "Epoch 1/3\n",
            "1563/1563 [==============================] - 5s 3ms/step - loss: 0.7523 - accuracy: 0.7995\n",
            "Epoch 2/3\n",
            "1563/1563 [==============================] - 5s 3ms/step - loss: 0.5681 - accuracy: 0.8595\n",
            "Epoch 3/3\n",
            "1563/1563 [==============================] - 5s 3ms/step - loss: 0.5013 - accuracy: 0.8819\n",
            "782/782 [==============================] - 2s 2ms/step - loss: 0.6045 - accuracy: 0.8535\n",
            "Epoch 1/3\n",
            "1563/1563 [==============================] - 5s 3ms/step - loss: 0.6627 - accuracy: 0.8009\n",
            "Epoch 2/3\n",
            "1563/1563 [==============================] - 5s 3ms/step - loss: 0.4616 - accuracy: 0.8646\n",
            "Epoch 3/3\n",
            "1563/1563 [==============================] - 5s 3ms/step - loss: 0.3871 - accuracy: 0.8894\n",
            "782/782 [==============================] - 2s 2ms/step - loss: 0.4647 - accuracy: 0.8696\n",
            "Epoch 1/3\n",
            "1563/1563 [==============================] - 5s 3ms/step - loss: 0.6618 - accuracy: 0.8004\n",
            "Epoch 2/3\n",
            "1563/1563 [==============================] - 5s 3ms/step - loss: 0.4666 - accuracy: 0.8626\n",
            "Epoch 3/3\n",
            "1563/1563 [==============================] - 5s 3ms/step - loss: 0.3931 - accuracy: 0.8851\n",
            "782/782 [==============================] - 2s 2ms/step - loss: 0.4859 - accuracy: 0.8632\n",
            "Epoch 1/3\n",
            "1563/1563 [==============================] - 5s 3ms/step - loss: 0.6564 - accuracy: 0.8021\n",
            "Epoch 2/3\n",
            "1563/1563 [==============================] - 4s 3ms/step - loss: 0.4594 - accuracy: 0.8646\n",
            "Epoch 3/3\n",
            "1563/1563 [==============================] - 5s 3ms/step - loss: 0.3845 - accuracy: 0.8882\n",
            "782/782 [==============================] - 2s 2ms/step - loss: 0.4928 - accuracy: 0.8603\n",
            "Epoch 1/3\n",
            "2344/2344 [==============================] - 7s 3ms/step - loss: 0.6166 - accuracy: 0.8156\n",
            "Epoch 2/3\n",
            "2344/2344 [==============================] - 7s 3ms/step - loss: 0.4421 - accuracy: 0.8713\n",
            "Epoch 3/3\n",
            "2344/2344 [==============================] - 7s 3ms/step - loss: 0.3791 - accuracy: 0.8923\n"
          ]
        }
      ]
    },
    {
      "cell_type": "code",
      "metadata": {
        "id": "DZb-QpxvBfGX",
        "colab": {
          "base_uri": "https://localhost:8080/"
        },
        "outputId": "5bf4a30d-b865-4c88-e383-e3092274c13f"
      },
      "source": [
        "print(\"Gridsearch runtime {0:.3} mins\".format( (end-start)/60 ))"
      ],
      "execution_count": 12,
      "outputs": [
        {
          "output_type": "stream",
          "name": "stdout",
          "text": [
            "Gridsearch runtime 7.82 mins\n"
          ]
        }
      ]
    },
    {
      "cell_type": "code",
      "source": [
        "grid_result.cv_results_"
      ],
      "metadata": {
        "colab": {
          "base_uri": "https://localhost:8080/"
        },
        "id": "QkozIFK_QCIQ",
        "outputId": "ef716232-50a9-43e1-fdcf-124efcace9df"
      },
      "execution_count": 14,
      "outputs": [
        {
          "output_type": "execute_result",
          "data": {
            "text/plain": [
              "{'mean_fit_time': array([22.31043824, 14.36087227, 18.97706072, 18.96953146, 16.76702714,\n",
              "        16.7395707 , 16.68987823]),\n",
              " 'mean_score_time': array([2.52557739, 2.25337442, 2.29986056, 2.63686927, 2.74851807,\n",
              "        2.52656468, 2.52732722]),\n",
              " 'mean_test_score': array([0.09865333, 0.10022667, 0.59408001, 0.80034665, 0.83826665,\n",
              "        0.85608   , 0.86435999]),\n",
              " 'param_Lp_reg': masked_array(data=[<class 'keras.regularizers.L2'>,\n",
              "                    <class 'keras.regularizers.L2'>,\n",
              "                    <class 'keras.regularizers.L2'>,\n",
              "                    <class 'keras.regularizers.L2'>,\n",
              "                    <class 'keras.regularizers.L2'>,\n",
              "                    <class 'keras.regularizers.L2'>,\n",
              "                    <class 'keras.regularizers.L2'>],\n",
              "              mask=[False, False, False, False, False, False, False],\n",
              "        fill_value='?',\n",
              "             dtype=object),\n",
              " 'param_epochs': masked_array(data=[3, 3, 3, 3, 3, 3, 3],\n",
              "              mask=[False, False, False, False, False, False, False],\n",
              "        fill_value='?',\n",
              "             dtype=object),\n",
              " 'param_reg_penalty': masked_array(data=[10.0, 1.0, 0.1, 0.01, 0.001, 0.0001, 1e-05],\n",
              "              mask=[False, False, False, False, False, False, False],\n",
              "        fill_value='?',\n",
              "             dtype=object),\n",
              " 'params': [{'Lp_reg': keras.regularizers.L2,\n",
              "   'epochs': 3,\n",
              "   'reg_penalty': 10.0},\n",
              "  {'Lp_reg': keras.regularizers.L2, 'epochs': 3, 'reg_penalty': 1.0},\n",
              "  {'Lp_reg': keras.regularizers.L2, 'epochs': 3, 'reg_penalty': 0.1},\n",
              "  {'Lp_reg': keras.regularizers.L2, 'epochs': 3, 'reg_penalty': 0.01},\n",
              "  {'Lp_reg': keras.regularizers.L2, 'epochs': 3, 'reg_penalty': 0.001},\n",
              "  {'Lp_reg': keras.regularizers.L2, 'epochs': 3, 'reg_penalty': 0.0001},\n",
              "  {'Lp_reg': keras.regularizers.L2, 'epochs': 3, 'reg_penalty': 1e-05}],\n",
              " 'rank_test_score': array([7, 6, 5, 4, 3, 2, 1], dtype=int32),\n",
              " 'split0_test_score': array([0.09896   , 0.10176   , 0.59688002, 0.79211998, 0.83572   ,\n",
              "        0.85464001, 0.86963999]),\n",
              " 'split1_test_score': array([0.09892   , 0.10096   , 0.54648   , 0.80343997, 0.83635998,\n",
              "        0.86008   , 0.86316001]),\n",
              " 'split2_test_score': array([0.09808   , 0.09796   , 0.63888001, 0.80548   , 0.84271997,\n",
              "        0.85351998, 0.86027998]),\n",
              " 'std_fit_time': array([1.51606699, 0.16879502, 3.16286057, 3.16990605, 3.11997592,\n",
              "        3.14093581, 3.18372843]),\n",
              " 'std_score_time': array([0.31328834, 0.34406988, 0.34910258, 0.17522926, 0.00315013,\n",
              "        0.32011397, 0.33543058]),\n",
              " 'std_test_score': array([0.00040574, 0.00163571, 0.03777407, 0.00587645, 0.00315979,\n",
              "        0.00286515, 0.00391428])}"
            ]
          },
          "metadata": {},
          "execution_count": 14
        }
      ]
    },
    {
      "cell_type": "code",
      "metadata": {
        "id": "FS1Vlh21BfGY",
        "colab": {
          "base_uri": "https://localhost:8080/",
          "height": 407
        },
        "outputId": "161df9ad-b5ac-4da0-af9c-13cfad658452"
      },
      "source": [
        "# use the mean accuracy from the CV splits for determining best model score \n",
        "means = grid_result.cv_results_['mean_test_score']\n",
        "stds = grid_result.cv_results_['std_test_score']\n",
        "params = grid_result.cv_results_['params']\n",
        "\n",
        "# move l2 penalty values outside of dictionary and into a list\n",
        "param_values = [param_dict[\"reg_penalty\"] for param_dict in params]\n",
        "\n",
        "# plot accuracy vs l2_reg_penalty\n",
        "plt.figure(figsize=(20,6))\n",
        "plt.grid()\n",
        "\n",
        "# this plot is using the std of the CV splits to plot error bars however those values are so small that they aren't visable\n",
        "plt.errorbar(param_values, means, yerr=stds, ecolor=\"orange\")\n",
        "plt.xscale(\"log\") # use a log scale for ease of reading, recall that l2_reg_penalty were in powers of 10 \n",
        "plt.title(\"L2 Regularization: Model Accuracy vs L2 Penalty Strength\")\n",
        "plt.ylabel(\"Validation Accuracy\", )\n",
        "plt.xlabel(\"L2 Penalty Strength usng a Log Scale\");"
      ],
      "execution_count": 13,
      "outputs": [
        {
          "output_type": "display_data",
          "data": {
            "text/plain": [
              "<Figure size 1440x432 with 1 Axes>"
            ],
            "image/png": "[encoded data removed]"
          },
          "metadata": {
            "needs_background": "light"
          }
        }
      ]
    },
    {
      "cell_type": "markdown",
      "metadata": {
        "id": "Vc4hfY52BfGY"
      },
      "source": [
        "### Observations\n",
        "\n",
        "Write down some observations. What do you notice from the plot?"
      ]
    },
    {
      "cell_type": "markdown",
      "metadata": {
        "deletable": false,
        "nbgrader": {
          "cell_type": "markdown",
          "checksum": "089b55b5a84d9c96c51fd341d9e6c74f",
          "grade": true,
          "grade_id": "cell-010212fc0915b976",
          "locked": false,
          "points": 0,
          "schema_version": 3,
          "solution": true,
          "task": false
        },
        "id": "G0Z92bfrBfGY"
      },
      "source": [
        "YOUR ANSWER HERE\n",
        "\n",
        "THE SMALLER THE PENALTY STRENGHT THE HIGHER THE ACCURACY, AS WE GET CLOSER TO \"1\" THE DROP IS SIGNIFICANT."
      ]
    },
    {
      "cell_type": "markdown",
      "metadata": {
        "id": "qKoqryhBBfGZ"
      },
      "source": [
        "\n",
        "## Compare Weights between the Best Model and a Worse Model \n",
        "\n",
        "Next, we are going to compare the hidden layer weights between the best and worst performing model while taking note of the respective L2 penalty strengths."
      ]
    },
    {
      "cell_type": "code",
      "source": [
        "grid_result.best_params_"
      ],
      "metadata": {
        "colab": {
          "base_uri": "https://localhost:8080/"
        },
        "id": "12IdFxLDRPPe",
        "outputId": "ddeddf77-557f-406b-94ea-784bc1e8e527"
      },
      "execution_count": 17,
      "outputs": [
        {
          "output_type": "execute_result",
          "data": {
            "text/plain": [
              "{'Lp_reg': keras.regularizers.L2, 'epochs': 3, 'reg_penalty': 1e-05}"
            ]
          },
          "metadata": {},
          "execution_count": 17
        }
      ]
    },
    {
      "cell_type": "code",
      "metadata": {
        "id": "4Rb3l6GuBfGZ"
      },
      "source": [
        "# get the best l2 penalty term \n",
        "best_lr_penalty = grid_result.best_params_[\"reg_penalty\"]\n",
        "\n",
        "# get the best trained model\n",
        "#     a model that is wrapped in the KerasClassifier wrapper doesn't have a .get_weights() method.\n",
        "#     So this is the workaround to generate a version of the model that does have a .get_weights() method\n",
        "best_model = grid_result.best_estimator_.build_fn(Lp_reg=l2, reg_penalty=best_lr_penalty)\n",
        "\n",
        "# get the weights from the best trained model \n",
        "best_weights = best_model.get_weights()"
      ],
      "execution_count": 18,
      "outputs": []
    },
    {
      "cell_type": "code",
      "metadata": {
        "id": "eFxgfRA4BfGZ",
        "colab": {
          "base_uri": "https://localhost:8080/"
        },
        "outputId": "a71d7208-2d7e-4da9-b29e-8eb801077b25"
      },
      "source": [
        "# train a model using the l2_reg_penalty value that scored the lowest \n",
        "worse_l2_reg_penalty = 10.0\n",
        "\n",
        "worse_model = build_complex_model(Lp_reg=l2, reg_penalty=worse_l2_reg_penalty)\n",
        "\n",
        "# fit model \n",
        "worse_model.fit(X_train, y_train, epochs=1)\n",
        "\n",
        "# get weights from worst performing model \n",
        "worse_weights = worse_model.get_weights()"
      ],
      "execution_count": 19,
      "outputs": [
        {
          "output_type": "stream",
          "name": "stdout",
          "text": [
            "2344/2344 [==============================] - 7s 3ms/step - loss: 111.4464 - accuracy: 0.1018\n"
          ]
        }
      ]
    },
    {
      "cell_type": "markdown",
      "metadata": {
        "id": "ZJHi51iABfGZ"
      },
      "source": [
        "-----\n",
        "## Understanding how Weights and Biases are stored"
      ]
    },
    {
      "cell_type": "markdown",
      "metadata": {
        "id": "dgo_lKxFBfGZ"
      },
      "source": [
        "Let's take a minute to understand that`.get_weights()` returns a list with 8 elements (if you're using `build_complex_model`)."
      ]
    },
    {
      "cell_type": "code",
      "metadata": {
        "id": "TMdhtUWRBfGZ",
        "colab": {
          "base_uri": "https://localhost:8080/"
        },
        "outputId": "2b391c5f-f4ee-4f1c-fe7a-73a073002386"
      },
      "source": [
        "len(best_weights)"
      ],
      "execution_count": 20,
      "outputs": [
        {
          "output_type": "execute_result",
          "data": {
            "text/plain": [
              "8"
            ]
          },
          "metadata": {},
          "execution_count": 20
        }
      ]
    },
    {
      "cell_type": "code",
      "source": [
        "best_weights[0]"
      ],
      "metadata": {
        "colab": {
          "base_uri": "https://localhost:8080/"
        },
        "id": "mk5wJIzXUMIK",
        "outputId": "3985cb44-b65c-42b6-eafc-03c382c95b1e"
      },
      "execution_count": 29,
      "outputs": [
        {
          "output_type": "execute_result",
          "data": {
            "text/plain": [
              "array([[-0.04727565, -0.01473577,  0.05852497, ..., -0.04347642,\n",
              "        -0.03765011,  0.05638898],\n",
              "       [ 0.0113063 , -0.02967961, -0.06672125, ...,  0.04068508,\n",
              "         0.00754936, -0.05336944],\n",
              "       [-0.0546471 , -0.03938156,  0.00342865, ..., -0.03605112,\n",
              "        -0.02700172, -0.06548519],\n",
              "       ...,\n",
              "       [-0.05071657, -0.00737641,  0.02474066, ...,  0.01318466,\n",
              "        -0.02033304,  0.03969336],\n",
              "       [ 0.05958851, -0.05332976, -0.05108277, ..., -0.06708967,\n",
              "        -0.05294843,  0.02814783],\n",
              "       [ 0.03737967,  0.03029675,  0.05541899, ..., -0.00994014,\n",
              "        -0.00027557, -0.06443284]], dtype=float32)"
            ]
          },
          "metadata": {},
          "execution_count": 29
        }
      ]
    },
    {
      "cell_type": "code",
      "source": [
        "best_weights[1]"
      ],
      "metadata": {
        "colab": {
          "base_uri": "https://localhost:8080/"
        },
        "id": "51ThNXLEUic2",
        "outputId": "09145559-79ad-4e5a-e07a-ab9cebed7d14"
      },
      "execution_count": 30,
      "outputs": [
        {
          "output_type": "execute_result",
          "data": {
            "text/plain": [
              "array([0., 0., 0., 0., 0., 0., 0., 0., 0., 0., 0., 0., 0., 0., 0., 0., 0.,\n",
              "       0., 0., 0., 0., 0., 0., 0., 0., 0., 0., 0., 0., 0., 0., 0., 0., 0.,\n",
              "       0., 0., 0., 0., 0., 0., 0., 0., 0., 0., 0., 0., 0., 0., 0., 0., 0.,\n",
              "       0., 0., 0., 0., 0., 0., 0., 0., 0., 0., 0., 0., 0., 0., 0., 0., 0.,\n",
              "       0., 0., 0., 0., 0., 0., 0., 0., 0., 0., 0., 0., 0., 0., 0., 0., 0.,\n",
              "       0., 0., 0., 0., 0., 0., 0., 0., 0., 0., 0., 0., 0., 0., 0., 0., 0.,\n",
              "       0., 0., 0., 0., 0., 0., 0., 0., 0., 0., 0., 0., 0., 0., 0., 0., 0.,\n",
              "       0., 0., 0., 0., 0., 0., 0., 0., 0., 0., 0., 0., 0., 0., 0., 0., 0.,\n",
              "       0., 0., 0., 0., 0., 0., 0., 0., 0., 0., 0., 0., 0., 0., 0., 0., 0.,\n",
              "       0., 0., 0., 0., 0., 0., 0., 0., 0., 0., 0., 0., 0., 0., 0., 0., 0.,\n",
              "       0., 0., 0., 0., 0., 0., 0., 0., 0., 0., 0., 0., 0., 0., 0., 0., 0.,\n",
              "       0., 0., 0., 0., 0., 0., 0., 0., 0., 0., 0., 0., 0., 0., 0., 0., 0.,\n",
              "       0., 0., 0., 0., 0., 0., 0., 0., 0., 0., 0., 0., 0., 0., 0., 0., 0.,\n",
              "       0., 0., 0., 0., 0., 0., 0., 0., 0., 0., 0., 0., 0., 0., 0., 0., 0.,\n",
              "       0., 0., 0., 0., 0., 0., 0., 0., 0., 0., 0., 0., 0., 0., 0., 0., 0.,\n",
              "       0., 0., 0., 0., 0., 0., 0., 0., 0., 0., 0., 0., 0., 0., 0., 0., 0.,\n",
              "       0., 0., 0., 0., 0., 0., 0., 0., 0., 0., 0., 0., 0., 0., 0., 0., 0.,\n",
              "       0., 0., 0., 0., 0., 0., 0., 0., 0., 0., 0., 0., 0., 0., 0., 0., 0.,\n",
              "       0., 0., 0., 0., 0., 0., 0., 0., 0., 0., 0., 0., 0., 0., 0., 0., 0.,\n",
              "       0., 0., 0., 0., 0., 0., 0., 0., 0., 0., 0., 0., 0., 0., 0., 0., 0.,\n",
              "       0., 0., 0., 0., 0., 0., 0., 0., 0., 0., 0., 0., 0., 0., 0., 0., 0.,\n",
              "       0., 0., 0., 0., 0., 0., 0., 0., 0., 0., 0., 0., 0., 0., 0., 0., 0.,\n",
              "       0., 0., 0., 0., 0., 0., 0., 0., 0., 0., 0., 0., 0., 0., 0., 0., 0.,\n",
              "       0., 0., 0., 0., 0., 0., 0., 0., 0., 0., 0., 0., 0., 0., 0., 0., 0.,\n",
              "       0., 0., 0., 0., 0., 0., 0., 0., 0., 0., 0., 0., 0., 0., 0., 0., 0.,\n",
              "       0., 0., 0., 0., 0., 0., 0., 0., 0., 0., 0., 0., 0., 0., 0., 0., 0.,\n",
              "       0., 0., 0., 0., 0., 0., 0., 0., 0., 0., 0., 0., 0., 0., 0., 0., 0.,\n",
              "       0., 0., 0., 0., 0., 0., 0., 0., 0., 0., 0., 0., 0., 0., 0., 0., 0.,\n",
              "       0., 0., 0., 0., 0., 0., 0., 0., 0., 0., 0., 0., 0., 0., 0., 0., 0.,\n",
              "       0., 0., 0., 0., 0., 0., 0.], dtype=float32)"
            ]
          },
          "metadata": {},
          "execution_count": 30
        }
      ]
    },
    {
      "cell_type": "markdown",
      "metadata": {
        "id": "6raIvOpOBfGa"
      },
      "source": [
        "There are **weights matrices and bias vectors between each layer** and we have 5 layers. The last 4 layers are composed of neurons. \n",
        "\n",
        "- Input\n",
        "- Hidden 1\n",
        "- Hidden 2\n",
        "- Hidden 3\n",
        "- Output \n",
        "\n",
        "So we should have a weight matrix and a bias vector from each neuron layer, <br>which accounts for $4 + 4 = 8$ elements in the list.\n",
        "\n",
        "\n",
        "#### Index for Weight Matrices \n",
        "If you index for a weight matrix, you can see its shape and that they are indeed matrices. \n",
        "\n",
        "Notice how you can see the dims of the layers that the matrices are sandwiched between?\n",
        "\n",
        "The input layer has 784 dims and hidden layer 1 has 500 neurons. <br>\n",
        "So the first weight matrix should have a column of weights for each neuron; and each column has 784 weights.\n",
        "Given this understanding, the numbers you see in the shapes of the weight and bias arrays should make sense. "
      ]
    },
    {
      "cell_type": "code",
      "metadata": {
        "id": "p8Wmj_pjBfGa",
        "colab": {
          "base_uri": "https://localhost:8080/"
        },
        "outputId": "cd390b63-e4bd-4294-b723-f635a2103d7e"
      },
      "source": [
        "# bewteen input and 1st hidden layer\n",
        "best_weights[0].shape"
      ],
      "execution_count": 21,
      "outputs": [
        {
          "output_type": "execute_result",
          "data": {
            "text/plain": [
              "(784, 500)"
            ]
          },
          "metadata": {},
          "execution_count": 21
        }
      ]
    },
    {
      "cell_type": "code",
      "metadata": {
        "id": "bRnY8DHHBfGa",
        "colab": {
          "base_uri": "https://localhost:8080/"
        },
        "outputId": "e6b4bf2f-85fc-41ef-c5c3-93017f23dbc3"
      },
      "source": [
        "# bewteen 1st and 2nd hidden layer\n",
        "best_weights[2].shape"
      ],
      "execution_count": 22,
      "outputs": [
        {
          "output_type": "execute_result",
          "data": {
            "text/plain": [
              "(500, 250)"
            ]
          },
          "metadata": {},
          "execution_count": 22
        }
      ]
    },
    {
      "cell_type": "code",
      "metadata": {
        "id": "aCQ-QZI4BfGb",
        "colab": {
          "base_uri": "https://localhost:8080/"
        },
        "outputId": "488b192d-863f-499d-ac63-56590ada3bb0"
      },
      "source": [
        "# bewteen 2nd and 3rd hidden layer\n",
        "best_weights[4].shape"
      ],
      "execution_count": 23,
      "outputs": [
        {
          "output_type": "execute_result",
          "data": {
            "text/plain": [
              "(250, 100)"
            ]
          },
          "metadata": {},
          "execution_count": 23
        }
      ]
    },
    {
      "cell_type": "code",
      "metadata": {
        "id": "LiD6Ij2BBfGb",
        "colab": {
          "base_uri": "https://localhost:8080/"
        },
        "outputId": "4d91a8b9-4b1f-4195-cfb1-1b3f0b8c8f58"
      },
      "source": [
        "# bewteen 3rd hidden layer and output layer\n",
        "best_weights[6].shape"
      ],
      "execution_count": 24,
      "outputs": [
        {
          "output_type": "execute_result",
          "data": {
            "text/plain": [
              "(100, 10)"
            ]
          },
          "metadata": {},
          "execution_count": 24
        }
      ]
    },
    {
      "cell_type": "markdown",
      "metadata": {
        "id": "v9rAIBBuBfGb"
      },
      "source": [
        "#### Index for the bias vectors\n",
        "\n",
        "The shapes of the bias vectors should exactly match up the dims/nodes of each layer (excluding the input layer). "
      ]
    },
    {
      "cell_type": "code",
      "metadata": {
        "id": "j5c97T5NBfGb",
        "colab": {
          "base_uri": "https://localhost:8080/"
        },
        "outputId": "ca561c8c-348c-416a-afea-887cd8df62c4"
      },
      "source": [
        "# for hidden layer 1 \n",
        "best_weights[1].shape"
      ],
      "execution_count": 25,
      "outputs": [
        {
          "output_type": "execute_result",
          "data": {
            "text/plain": [
              "(500,)"
            ]
          },
          "metadata": {},
          "execution_count": 25
        }
      ]
    },
    {
      "cell_type": "code",
      "metadata": {
        "id": "YWABwgJgBfGc",
        "colab": {
          "base_uri": "https://localhost:8080/"
        },
        "outputId": "f482a0e4-16e5-460f-ba06-c4cca044ea9f"
      },
      "source": [
        "# for hidden layer 2 \n",
        "best_weights[3].shape"
      ],
      "execution_count": 26,
      "outputs": [
        {
          "output_type": "execute_result",
          "data": {
            "text/plain": [
              "(250,)"
            ]
          },
          "metadata": {},
          "execution_count": 26
        }
      ]
    },
    {
      "cell_type": "code",
      "metadata": {
        "id": "juFKoCftBfGc",
        "colab": {
          "base_uri": "https://localhost:8080/"
        },
        "outputId": "6fab8673-1673-43df-ae12-32b544402ffa"
      },
      "source": [
        "# for hidden layer 3\n",
        "best_weights[5].shape"
      ],
      "execution_count": 31,
      "outputs": [
        {
          "output_type": "execute_result",
          "data": {
            "text/plain": [
              "(100,)"
            ]
          },
          "metadata": {},
          "execution_count": 31
        }
      ]
    },
    {
      "cell_type": "code",
      "metadata": {
        "id": "_uul71OiBfGc",
        "colab": {
          "base_uri": "https://localhost:8080/"
        },
        "outputId": "58bdd2ae-5e0f-4136-f0e5-cc0c4e0894a4"
      },
      "source": [
        "# for output layer\n",
        "best_weights[7].shape"
      ],
      "execution_count": 32,
      "outputs": [
        {
          "output_type": "execute_result",
          "data": {
            "text/plain": [
              "(10,)"
            ]
          },
          "metadata": {},
          "execution_count": 32
        }
      ]
    },
    {
      "cell_type": "markdown",
      "metadata": {
        "id": "7uwdFhiWBfGc"
      },
      "source": [
        "-----\n",
        "\n",
        "### Back to our Analysis of L2 space regularization (also known as Ridge)\n",
        "\n",
        "To gauge the performance effect of L2 regularization, we'll compare the weights for the 1st hidden layer from the best and worst performing models from our hyperparameter search space, as well as with the initial weight values that are randomly sampled from the GlorotUniform distribution.\n",
        "\n",
        "[**Check out the Keras docs for the Dense layer**](https://keras.io/api/layers/core_layers/dense/), you'll see that GlorotUniform is the default weight initializer. \n",
        "\n",
        "Read the docs to figure out how to get the weights from a Keras dense layer.\n",
        "Also have a look at this helpful post on StackOverflow: [**How to view initialized weights (i.e. before training)?**](https://stackoverflow.com/questions/46798708/how-to-view-initialized-weights-i-e-before-training)\n"
      ]
    },
    {
      "cell_type": "markdown",
      "metadata": {
        "id": "UdmuttujBfGd"
      },
      "source": [
        "Before we compare weights, let's take note of the following. \n",
        "\n",
        "Both `best_weights[0]` or `worse_weights[0]` are matrices with shape `(784, 500)`. \n",
        "\n",
        "If we flatten them, then we get `784 * 500 = 392000` weights. What does this mean exactly?\n",
        "\n",
        "Remember that we are working with the Fully Connected Feed-Forward model which looks something like this. \n",
        "\n",
        "![](https://pyimagesearch.com/wp-content/uploads/2016/08/simple_neural_network_header.jpg)\n",
        "\n",
        "In Fully Connected neural network models, the outputs from a layer become the inputs for the next layer. Each output from a layer is passed as an input to all the nodes in next layer.<br>\n",
        "Our input layer has $784$ output weights which are the pixel values in the image. Each neuron (or node) in hidden layer $1$ also has $784$ weights, one for each pixel input.  Hidden layer 1 has $500$ neurons. So the weights are conveniently represented as a **weights matrix** with $784$ rows (one row for each pixel in the input image) and $500$ columns (one column for each neuron in the layer). The $i$th column of the weights matrix holds the $784$ weights $\\textbf{w}_{i}$ belonging to the $i$th neuron in the layer.\n",
        "\n",
        "To keep our analysis simple, we are going to analyze only the weights corresponding to the first neuron in hidden layer $1$, whose weights $\\textbf{w}_{1}$ are the first column of the weight matrix.  <br><br>\n",
        "\n",
        "We will observe the effect of L2 regularization on neuron 1 in hidden layer 1.\n"
      ]
    },
    {
      "cell_type": "code",
      "source": [
        "\n",
        "best_weights[0].shape"
      ],
      "metadata": {
        "colab": {
          "base_uri": "https://localhost:8080/"
        },
        "id": "V-NUqkAWWqK4",
        "outputId": "e6918dd9-0e3b-40c4-fd3a-59d1d08cb668"
      },
      "execution_count": 98,
      "outputs": [
        {
          "output_type": "execute_result",
          "data": {
            "text/plain": [
              "(784, 500)"
            ]
          },
          "metadata": {},
          "execution_count": 98
        }
      ]
    },
    {
      "cell_type": "code",
      "metadata": {
        "deletable": false,
        "nbgrader": {
          "cell_type": "code",
          "checksum": "a3f75126a80a74dd71fb0a9ab2b8b89f",
          "grade": false,
          "grade_id": "cell-7882876b8973bc7b",
          "locked": false,
          "schema_version": 3,
          "solution": true,
          "task": false
        },
        "id": "xomeoSW4BfGd"
      },
      "source": [
        "# index for the 1st column (784 entries) in the 1st hidden layer weights in best_weights and save to best_hidden_weights\n",
        "\n",
        "first_column = 0 # corresponding to the first neuron \n",
        "\n",
        "best_hidden_weights = [row[first_column] for row in best_weights[0]]\n",
        "\n",
        "# index for the 1st column (784 entries) in the 1st hidden layer weights in worse_weights and save to worse_hidden_weights\n",
        "\n",
        "worse_hidden_weights = [row[first_column] for row in worse_weights[0]]\n",
        "\n",
        "# Keras models randomly samples from the GlorotUniform distribution for the initial values of model weights \n",
        "# instantiate GlorotUniform and sample 784 weights and save to initial_weight_values\n",
        "\n",
        "initializer = GlorotUniform()\n",
        "\n",
        "initial_weight_values = initializer(shape=(784,1))\n",
        "\n",
        "initial_weight_values = initial_weight_values.numpy()\n",
        "\n",
        "initial_weight_values = [in_bracket_val[0] for in_bracket_val in initial_weight_values]\n",
        "\n",
        "\n",
        "# Build a data frame with these 3 vectors as columns\n",
        "\n",
        "# YOUR CODE HERE\n",
        "#raise NotImplementedError()"
      ],
      "execution_count": 100,
      "outputs": []
    },
    {
      "cell_type": "code",
      "source": [
        "#type(initial_weight_values)"
      ],
      "metadata": {
        "id": "qbaDZ-bHjNKS"
      },
      "execution_count": 90,
      "outputs": []
    },
    {
      "cell_type": "code",
      "metadata": {
        "id": "zaRHQzP2BfGe"
      },
      "source": [
        "# move all weights to a dataframe for ease of analysis \n",
        "cols = [\"best_hidden_weights\", \"worse_hidden_weights\", \"initial_weight_values\"]\n",
        "data = [best_hidden_weights, worse_hidden_weights, initial_weight_values]\n",
        "df = pd.DataFrame(data=data).T\n",
        "df.columns = cols"
      ],
      "execution_count": 101,
      "outputs": []
    },
    {
      "cell_type": "code",
      "source": [
        "df.head()"
      ],
      "metadata": {
        "colab": {
          "base_uri": "https://localhost:8080/",
          "height": 201
        },
        "id": "Uq7dHsaKa74h",
        "outputId": "7e0768d7-1c5f-4499-a70f-6e8fdfed57fb"
      },
      "execution_count": 102,
      "outputs": [
        {
          "output_type": "execute_result",
          "data": {
            "text/plain": [
              "   best_hidden_weights  worse_hidden_weights  initial_weight_values\n",
              "0            -0.047276         -4.533915e-37               0.051076\n",
              "1             0.011306          4.670474e-37               0.027838\n",
              "2            -0.054647          1.772073e-05              -0.072826\n",
              "3            -0.024478         -3.670363e-37               0.030226\n",
              "4            -0.012597          1.937057e-37              -0.075153"
            ],
            "text/html": [
              "\n",
              "  <div id=\"df-6e4c9656-80f8-4a6e-b240-34cb534481f4\">\n",
              "    <div class=\"colab-df-container\">\n",
              "      <div>\n",
              "<style scoped>\n",
              "    .dataframe tbody tr th:only-of-type {\n",
              "        vertical-align: middle;\n",
              "    }\n",
              "\n",
              "    .dataframe tbody tr th {\n",
              "        vertical-align: top;\n",
              "    }\n",
              "\n",
              "    .dataframe thead th {\n",
              "        text-align: right;\n",
              "    }\n",
              "</style>\n",
              "<table border=\"1\" class=\"dataframe\">\n",
              "  <thead>\n",
              "    <tr style=\"text-align: right;\">\n",
              "      <th></th>\n",
              "      <th>best_hidden_weights</th>\n",
              "      <th>worse_hidden_weights</th>\n",
              "      <th>initial_weight_values</th>\n",
              "    </tr>\n",
              "  </thead>\n",
              "  <tbody>\n",
              "    <tr>\n",
              "      <th>0</th>\n",
              "      <td>-0.047276</td>\n",
              "      <td>-4.533915e-37</td>\n",
              "      <td>0.051076</td>\n",
              "    </tr>\n",
              "    <tr>\n",
              "      <th>1</th>\n",
              "      <td>0.011306</td>\n",
              "      <td>4.670474e-37</td>\n",
              "      <td>0.027838</td>\n",
              "    </tr>\n",
              "    <tr>\n",
              "      <th>2</th>\n",
              "      <td>-0.054647</td>\n",
              "      <td>1.772073e-05</td>\n",
              "      <td>-0.072826</td>\n",
              "    </tr>\n",
              "    <tr>\n",
              "      <th>3</th>\n",
              "      <td>-0.024478</td>\n",
              "      <td>-3.670363e-37</td>\n",
              "      <td>0.030226</td>\n",
              "    </tr>\n",
              "    <tr>\n",
              "      <th>4</th>\n",
              "      <td>-0.012597</td>\n",
              "      <td>1.937057e-37</td>\n",
              "      <td>-0.075153</td>\n",
              "    </tr>\n",
              "  </tbody>\n",
              "</table>\n",
              "</div>\n",
              "      <button class=\"colab-df-convert\" onclick=\"convertToInteractive('df-6e4c9656-80f8-4a6e-b240-34cb534481f4')\"\n",
              "              title=\"Convert this dataframe to an interactive table.\"\n",
              "              style=\"display:none;\">\n",
              "        \n",
              "  <svg xmlns=\"http://www.w3.org/2000/svg\" height=\"24px\"viewBox=\"0 0 24 24\"\n",
              "       width=\"24px\">\n",
              "    <path d=\"M0 0h24v24H0V0z\" fill=\"none\"/>\n",
              "    <path d=\"M18.56 5.44l.94 2.06.94-2.06 2.06-.94-2.06-.94-.94-2.06-.94 2.06-2.06.94zm-11 1L8.5 8.5l.94-2.06 2.06-.94-2.06-.94L8.5 2.5l-.94 2.06-2.06.94zm10 10l.94 2.06.94-2.06 2.06-.94-2.06-.94-.94-2.06-.94 2.06-2.06.94z\"/><path d=\"M17.41 7.96l-1.37-1.37c-.4-.4-.92-.59-1.43-.59-.52 0-1.04.2-1.43.59L10.3 9.45l-7.72 7.72c-.78.78-.78 2.05 0 2.83L4 21.41c.39.39.9.59 1.41.59.51 0 1.02-.2 1.41-.59l7.78-7.78 2.81-2.81c.8-.78.8-2.07 0-2.86zM5.41 20L4 18.59l7.72-7.72 1.47 1.35L5.41 20z\"/>\n",
              "  </svg>\n",
              "      </button>\n",
              "      \n",
              "  <style>\n",
              "    .colab-df-container {\n",
              "      display:flex;\n",
              "      flex-wrap:wrap;\n",
              "      gap: 12px;\n",
              "    }\n",
              "\n",
              "    .colab-df-convert {\n",
              "      background-color: #E8F0FE;\n",
              "      border: none;\n",
              "      border-radius: 50%;\n",
              "      cursor: pointer;\n",
              "      display: none;\n",
              "      fill: #1967D2;\n",
              "      height: 32px;\n",
              "      padding: 0 0 0 0;\n",
              "      width: 32px;\n",
              "    }\n",
              "\n",
              "    .colab-df-convert:hover {\n",
              "      background-color: #E2EBFA;\n",
              "      box-shadow: 0px 1px 2px rgba(60, 64, 67, 0.3), 0px 1px 3px 1px rgba(60, 64, 67, 0.15);\n",
              "      fill: #174EA6;\n",
              "    }\n",
              "\n",
              "    [theme=dark] .colab-df-convert {\n",
              "      background-color: #3B4455;\n",
              "      fill: #D2E3FC;\n",
              "    }\n",
              "\n",
              "    [theme=dark] .colab-df-convert:hover {\n",
              "      background-color: #434B5C;\n",
              "      box-shadow: 0px 1px 3px 1px rgba(0, 0, 0, 0.15);\n",
              "      filter: drop-shadow(0px 1px 2px rgba(0, 0, 0, 0.3));\n",
              "      fill: #FFFFFF;\n",
              "    }\n",
              "  </style>\n",
              "\n",
              "      <script>\n",
              "        const buttonEl =\n",
              "          document.querySelector('#df-6e4c9656-80f8-4a6e-b240-34cb534481f4 button.colab-df-convert');\n",
              "        buttonEl.style.display =\n",
              "          google.colab.kernel.accessAllowed ? 'block' : 'none';\n",
              "\n",
              "        async function convertToInteractive(key) {\n",
              "          const element = document.querySelector('#df-6e4c9656-80f8-4a6e-b240-34cb534481f4');\n",
              "          const dataTable =\n",
              "            await google.colab.kernel.invokeFunction('convertToInteractive',\n",
              "                                                     [key], {});\n",
              "          if (!dataTable) return;\n",
              "\n",
              "          const docLinkHtml = 'Like what you see? Visit the ' +\n",
              "            '<a target=\"_blank\" href=https://colab.research.google.com/notebooks/data_table.ipynb>data table notebook</a>'\n",
              "            + ' to learn more about interactive tables.';\n",
              "          element.innerHTML = '';\n",
              "          dataTable['output_type'] = 'display_data';\n",
              "          await google.colab.output.renderOutput(dataTable, element);\n",
              "          const docLink = document.createElement('div');\n",
              "          docLink.innerHTML = docLinkHtml;\n",
              "          element.appendChild(docLink);\n",
              "        }\n",
              "      </script>\n",
              "    </div>\n",
              "  </div>\n",
              "  "
            ]
          },
          "metadata": {},
          "execution_count": 102
        }
      ]
    },
    {
      "cell_type": "code",
      "metadata": {
        "id": "GTxYblbIBfGe",
        "colab": {
          "base_uri": "https://localhost:8080/",
          "height": 291
        },
        "outputId": "98104bc9-5d78-4ddd-94f8-9e2326ed9eec"
      },
      "source": [
        "# check out the statistics for each weight column \n",
        "df.describe()"
      ],
      "execution_count": 103,
      "outputs": [
        {
          "output_type": "execute_result",
          "data": {
            "text/plain": [
              "       best_hidden_weights  worse_hidden_weights  initial_weight_values\n",
              "count           784.000000          7.840000e+02             784.000000\n",
              "mean             -0.003341         -1.293421e-07               0.002289\n",
              "std               0.039932          5.601901e-06               0.050750\n",
              "min              -0.068292         -1.521923e-04              -0.087357\n",
              "25%              -0.037426         -1.233509e-14              -0.042298\n",
              "50%              -0.007844          4.619071e-37               0.000038\n",
              "75%               0.031339          3.175531e-14               0.048886\n",
              "max               0.067948          3.329363e-05               0.087418"
            ],
            "text/html": [
              "\n",
              "  <div id=\"df-35e5687d-937a-44ae-8d62-4cb5fb337903\">\n",
              "    <div class=\"colab-df-container\">\n",
              "      <div>\n",
              "<style scoped>\n",
              "    .dataframe tbody tr th:only-of-type {\n",
              "        vertical-align: middle;\n",
              "    }\n",
              "\n",
              "    .dataframe tbody tr th {\n",
              "        vertical-align: top;\n",
              "    }\n",
              "\n",
              "    .dataframe thead th {\n",
              "        text-align: right;\n",
              "    }\n",
              "</style>\n",
              "<table border=\"1\" class=\"dataframe\">\n",
              "  <thead>\n",
              "    <tr style=\"text-align: right;\">\n",
              "      <th></th>\n",
              "      <th>best_hidden_weights</th>\n",
              "      <th>worse_hidden_weights</th>\n",
              "      <th>initial_weight_values</th>\n",
              "    </tr>\n",
              "  </thead>\n",
              "  <tbody>\n",
              "    <tr>\n",
              "      <th>count</th>\n",
              "      <td>784.000000</td>\n",
              "      <td>7.840000e+02</td>\n",
              "      <td>784.000000</td>\n",
              "    </tr>\n",
              "    <tr>\n",
              "      <th>mean</th>\n",
              "      <td>-0.003341</td>\n",
              "      <td>-1.293421e-07</td>\n",
              "      <td>0.002289</td>\n",
              "    </tr>\n",
              "    <tr>\n",
              "      <th>std</th>\n",
              "      <td>0.039932</td>\n",
              "      <td>5.601901e-06</td>\n",
              "      <td>0.050750</td>\n",
              "    </tr>\n",
              "    <tr>\n",
              "      <th>min</th>\n",
              "      <td>-0.068292</td>\n",
              "      <td>-1.521923e-04</td>\n",
              "      <td>-0.087357</td>\n",
              "    </tr>\n",
              "    <tr>\n",
              "      <th>25%</th>\n",
              "      <td>-0.037426</td>\n",
              "      <td>-1.233509e-14</td>\n",
              "      <td>-0.042298</td>\n",
              "    </tr>\n",
              "    <tr>\n",
              "      <th>50%</th>\n",
              "      <td>-0.007844</td>\n",
              "      <td>4.619071e-37</td>\n",
              "      <td>0.000038</td>\n",
              "    </tr>\n",
              "    <tr>\n",
              "      <th>75%</th>\n",
              "      <td>0.031339</td>\n",
              "      <td>3.175531e-14</td>\n",
              "      <td>0.048886</td>\n",
              "    </tr>\n",
              "    <tr>\n",
              "      <th>max</th>\n",
              "      <td>0.067948</td>\n",
              "      <td>3.329363e-05</td>\n",
              "      <td>0.087418</td>\n",
              "    </tr>\n",
              "  </tbody>\n",
              "</table>\n",
              "</div>\n",
              "      <button class=\"colab-df-convert\" onclick=\"convertToInteractive('df-35e5687d-937a-44ae-8d62-4cb5fb337903')\"\n",
              "              title=\"Convert this dataframe to an interactive table.\"\n",
              "              style=\"display:none;\">\n",
              "        \n",
              "  <svg xmlns=\"http://www.w3.org/2000/svg\" height=\"24px\"viewBox=\"0 0 24 24\"\n",
              "       width=\"24px\">\n",
              "    <path d=\"M0 0h24v24H0V0z\" fill=\"none\"/>\n",
              "    <path d=\"M18.56 5.44l.94 2.06.94-2.06 2.06-.94-2.06-.94-.94-2.06-.94 2.06-2.06.94zm-11 1L8.5 8.5l.94-2.06 2.06-.94-2.06-.94L8.5 2.5l-.94 2.06-2.06.94zm10 10l.94 2.06.94-2.06 2.06-.94-2.06-.94-.94-2.06-.94 2.06-2.06.94z\"/><path d=\"M17.41 7.96l-1.37-1.37c-.4-.4-.92-.59-1.43-.59-.52 0-1.04.2-1.43.59L10.3 9.45l-7.72 7.72c-.78.78-.78 2.05 0 2.83L4 21.41c.39.39.9.59 1.41.59.51 0 1.02-.2 1.41-.59l7.78-7.78 2.81-2.81c.8-.78.8-2.07 0-2.86zM5.41 20L4 18.59l7.72-7.72 1.47 1.35L5.41 20z\"/>\n",
              "  </svg>\n",
              "      </button>\n",
              "      \n",
              "  <style>\n",
              "    .colab-df-container {\n",
              "      display:flex;\n",
              "      flex-wrap:wrap;\n",
              "      gap: 12px;\n",
              "    }\n",
              "\n",
              "    .colab-df-convert {\n",
              "      background-color: #E8F0FE;\n",
              "      border: none;\n",
              "      border-radius: 50%;\n",
              "      cursor: pointer;\n",
              "      display: none;\n",
              "      fill: #1967D2;\n",
              "      height: 32px;\n",
              "      padding: 0 0 0 0;\n",
              "      width: 32px;\n",
              "    }\n",
              "\n",
              "    .colab-df-convert:hover {\n",
              "      background-color: #E2EBFA;\n",
              "      box-shadow: 0px 1px 2px rgba(60, 64, 67, 0.3), 0px 1px 3px 1px rgba(60, 64, 67, 0.15);\n",
              "      fill: #174EA6;\n",
              "    }\n",
              "\n",
              "    [theme=dark] .colab-df-convert {\n",
              "      background-color: #3B4455;\n",
              "      fill: #D2E3FC;\n",
              "    }\n",
              "\n",
              "    [theme=dark] .colab-df-convert:hover {\n",
              "      background-color: #434B5C;\n",
              "      box-shadow: 0px 1px 3px 1px rgba(0, 0, 0, 0.15);\n",
              "      filter: drop-shadow(0px 1px 2px rgba(0, 0, 0, 0.3));\n",
              "      fill: #FFFFFF;\n",
              "    }\n",
              "  </style>\n",
              "\n",
              "      <script>\n",
              "        const buttonEl =\n",
              "          document.querySelector('#df-35e5687d-937a-44ae-8d62-4cb5fb337903 button.colab-df-convert');\n",
              "        buttonEl.style.display =\n",
              "          google.colab.kernel.accessAllowed ? 'block' : 'none';\n",
              "\n",
              "        async function convertToInteractive(key) {\n",
              "          const element = document.querySelector('#df-35e5687d-937a-44ae-8d62-4cb5fb337903');\n",
              "          const dataTable =\n",
              "            await google.colab.kernel.invokeFunction('convertToInteractive',\n",
              "                                                     [key], {});\n",
              "          if (!dataTable) return;\n",
              "\n",
              "          const docLinkHtml = 'Like what you see? Visit the ' +\n",
              "            '<a target=\"_blank\" href=https://colab.research.google.com/notebooks/data_table.ipynb>data table notebook</a>'\n",
              "            + ' to learn more about interactive tables.';\n",
              "          element.innerHTML = '';\n",
              "          dataTable['output_type'] = 'display_data';\n",
              "          await google.colab.output.renderOutput(dataTable, element);\n",
              "          const docLink = document.createElement('div');\n",
              "          docLink.innerHTML = docLinkHtml;\n",
              "          element.appendChild(docLink);\n",
              "        }\n",
              "      </script>\n",
              "    </div>\n",
              "  </div>\n",
              "  "
            ]
          },
          "metadata": {},
          "execution_count": 103
        }
      ]
    },
    {
      "cell_type": "code",
      "metadata": {
        "id": "4Np8LOGIBfGe",
        "colab": {
          "base_uri": "https://localhost:8080/",
          "height": 715
        },
        "outputId": "94d2bffa-4aa1-4626-d74e-9e43d58a8d77"
      },
      "source": [
        "# plot the distributions for each weight column \n",
        "df.hist(figsize=(20,12));"
      ],
      "execution_count": 104,
      "outputs": [
        {
          "output_type": "display_data",
          "data": {
            "text/plain": [
              "<Figure size 1440x864 with 4 Axes>"
            ],
            "image/png": "[encoded data removed]"
          },
          "metadata": {
            "needs_background": "light"
          }
        }
      ]
    },
    {
      "cell_type": "markdown",
      "metadata": {
        "id": "PAtwX9QfBfGe"
      },
      "source": [
        "## Observations \n",
        "\n",
        "Take a look at the statistical table and the plots. Then answer the following questions. \n",
        "\n",
        "**How do the hidden layer weights from the best performing model compare to the initial weight values?**"
      ]
    },
    {
      "cell_type": "markdown",
      "metadata": {
        "deletable": false,
        "nbgrader": {
          "cell_type": "markdown",
          "checksum": "5eacb66f89b216ae3b4bb3c4b7bd6d38",
          "grade": true,
          "grade_id": "cell-6add7cc400c4c716",
          "locked": false,
          "points": 0,
          "schema_version": 3,
          "solution": true,
          "task": false
        },
        "id": "GcB8C891BfGe"
      },
      "source": [
        "YOUR ANSWER HERE\n",
        "\n",
        "THE DISTRIBUTION OF THE BEST PERFORMING MODEL IS NARROWER THAN THE INITIAL WEIGHT DISTRIBUTION, ALSO, THE VALUES ARE MORE DISTRIBUTED TOWARDS NEGATIVE VALUES"
      ]
    },
    {
      "cell_type": "markdown",
      "metadata": {
        "id": "6ssnJofqBfGf"
      },
      "source": [
        "**What was the effect of using a small L2 penalty value (regularization constant)?**"
      ]
    },
    {
      "cell_type": "markdown",
      "metadata": {
        "deletable": false,
        "nbgrader": {
          "cell_type": "markdown",
          "checksum": "92ac1689b72d727ab7f4d261c5e76daa",
          "grade": true,
          "grade_id": "cell-5b4f11bba2d49639",
          "locked": false,
          "points": 0,
          "schema_version": 3,
          "solution": true,
          "task": false
        },
        "id": "N3PyRkv_BfGf"
      },
      "source": [
        "YOUR ANSWER HERE\n",
        "\n",
        "NARROWING THE DISTRIBUTION OF WEIGHTS WITHOUT OVER ADJUSTING, KEEPING SIGNAL AND REMOVING NOISE "
      ]
    },
    {
      "cell_type": "markdown",
      "metadata": {
        "id": "_dIM4qL5BfGf"
      },
      "source": [
        "**What was the effect of using a large L2 penalty value?**"
      ]
    },
    {
      "cell_type": "markdown",
      "metadata": {
        "deletable": false,
        "nbgrader": {
          "cell_type": "markdown",
          "checksum": "3048a6d2805f61d6fb58372c42c3ac54",
          "grade": true,
          "grade_id": "cell-0a30b62e5e119555",
          "locked": false,
          "points": 0,
          "schema_version": 3,
          "solution": true,
          "task": false
        },
        "id": "yhaLO6-CBfGf"
      },
      "source": [
        "OVER PENALIZING THE WEIGHTS, RESULTING IN A OVER NARROWING OF THE VALUES, SHRINKING THEM TOWARDS ZERO BUT ELIMINATING THE SIGNALING VALUES ALONG THE PROCESS"
      ]
    },
    {
      "cell_type": "markdown",
      "metadata": {
        "id": "8rDYEPbsBfGg"
      },
      "source": [
        "**Given what you know about L2 regularization, are you surprised by these results?**"
      ]
    },
    {
      "cell_type": "markdown",
      "metadata": {
        "deletable": false,
        "nbgrader": {
          "cell_type": "markdown",
          "checksum": "d8a2034f67badfe53f601873f7026dc0",
          "grade": true,
          "grade_id": "cell-c04d067161064011",
          "locked": false,
          "points": 0,
          "schema_version": 3,
          "solution": true,
          "task": false
        },
        "id": "m3Nt5LmOBfGg"
      },
      "source": [
        "YOUR ANSWER HERE\n",
        "\n",
        "NO, IT IS WHAT IT WAS EXPECTED FROM THE THEORY; HIGH PENALTY VALUES OVER SHRINK THE WEIGHT VALUES AND SMALL VALUES REDUCE COMPLEXITY JUST ENOUGH TO AVOID OVERFITTING."
      ]
    },
    {
      "cell_type": "markdown",
      "metadata": {
        "id": "0SI5IBq8BfGg"
      },
      "source": [
        "----\n",
        "\n",
        "# Experiment 2: Identify the relationship between model performance and Max Norm Weight Constraint\n",
        "\n",
        "![](https://qph.fs.quoracdn.net/main-qimg-9d0dbf8074761b541ba80543ddfc9f73.webp)\n",
        "\n",
        "Recall from lecture that the **norm** of a vector is another word for the **length** of the vector.\n",
        "\n",
        "`MaxNorm` weight constraint puts a limit on the norm of the weight vector.\n",
        "\n",
        "The effect that Lp regularization and `MaxNorm` regularization have on the weights is similar, but they go about it in different ways. \n",
        "\n",
        "While Lp regularization (L1/Lasso and L2/Ridge) shrink the weight values by imposing constraints on their L1 and L2 norms, `MaxNorm` regularization shrinks the weight values by imposing a limit on the norm of a weight vector. Here's how it works: if an update would push the norm of a weight vector above MaxNorm, a scale factor is applied to all the weights so as to shrink the norm back to MaxNorm. \n",
        "\n",
        "In this experiment, we'll run another gridseach, similar to the one we ran for L2 regularization in the previous experiment. This time, we are going to gauge the effect of `MaxNorm` regularization on model performance and the distribution of the learned weights. As in the previous experiment, we will simplify our analysis by focusing on the weights for the first neuron in the first hidden layer."
      ]
    },
    {
      "cell_type": "markdown",
      "metadata": {
        "id": "ChP-sILzBfGg"
      },
      "source": [
        "Since we already built our model, we just need to update the `hyper_parameters` dictionary. "
      ]
    },
    {
      "cell_type": "code",
      "metadata": {
        "id": "5xdqcr6WBfGg",
        "colab": {
          "base_uri": "https://localhost:8080/"
        },
        "outputId": "ab7032a9-43d4-4aa6-b2f2-7c0033c9e794"
      },
      "source": [
        "# build out our hyperparameter dictionary \n",
        "hyper_parameters = {\n",
        "    \n",
        "    \"maxnorm_wc\": np.linspace(0.5, 10.0, num=20), \n",
        "    # default is 1, in order to change it we must provide value here because we can't provide a parameter value for model.fit() directly when using gridsearch\n",
        "    # protip: consider changing epochs to 1 if the gridsearche run-time are too long for you    \n",
        "    \"epochs\": [1] \n",
        "}\n",
        "\n",
        "hyper_parameters"
      ],
      "execution_count": 105,
      "outputs": [
        {
          "output_type": "execute_result",
          "data": {
            "text/plain": [
              "{'epochs': [1],\n",
              " 'maxnorm_wc': array([ 0.5,  1. ,  1.5,  2. ,  2.5,  3. ,  3.5,  4. ,  4.5,  5. ,  5.5,\n",
              "         6. ,  6.5,  7. ,  7.5,  8. ,  8.5,  9. ,  9.5, 10. ])}"
            ]
          },
          "metadata": {},
          "execution_count": 105
        }
      ]
    },
    {
      "cell_type": "code",
      "metadata": {
        "id": "AGQiKwo0BfGh",
        "colab": {
          "base_uri": "https://localhost:8080/"
        },
        "outputId": "6a31f94e-af95-443c-b688-7d1d1950b4bb"
      },
      "source": [
        "start=time()\n",
        "# Create and run Grid Search\n",
        "grid = GridSearchCV(estimator=model, \n",
        "                    param_grid=hyper_parameters, \n",
        "                    n_jobs=-2, \n",
        "                    verbose=1, \n",
        "                    cv=3)\n",
        "\n",
        "grid_result = grid.fit(X_train, y_train)\n",
        "end=time()"
      ],
      "execution_count": 107,
      "outputs": [
        {
          "output_type": "stream",
          "name": "stdout",
          "text": [
            "Fitting 3 folds for each of 20 candidates, totalling 60 fits\n",
            "1563/1563 [==============================] - 5s 3ms/step - loss: 0.7380 - accuracy: 0.7715\n",
            "782/782 [==============================] - 2s 2ms/step - loss: 0.6122 - accuracy: 0.8126\n",
            "1563/1563 [==============================] - 5s 3ms/step - loss: 0.7481 - accuracy: 0.7660\n",
            "782/782 [==============================] - 2s 2ms/step - loss: 0.6665 - accuracy: 0.7876\n",
            "1563/1563 [==============================] - 5s 3ms/step - loss: 0.7308 - accuracy: 0.7724\n",
            "782/782 [==============================] - 2s 2ms/step - loss: 0.6287 - accuracy: 0.8039\n",
            "1563/1563 [==============================] - 5s 3ms/step - loss: 0.6655 - accuracy: 0.7950\n",
            "782/782 [==============================] - 2s 2ms/step - loss: 0.5369 - accuracy: 0.8355\n",
            "1563/1563 [==============================] - 5s 3ms/step - loss: 0.6659 - accuracy: 0.7944\n",
            "782/782 [==============================] - 2s 2ms/step - loss: 0.5452 - accuracy: 0.8320\n",
            "1563/1563 [==============================] - 5s 3ms/step - loss: 0.6698 - accuracy: 0.7922\n",
            "782/782 [==============================] - 2s 2ms/step - loss: 0.5566 - accuracy: 0.8269\n",
            "1563/1563 [==============================] - 5s 3ms/step - loss: 0.6488 - accuracy: 0.8002\n",
            "782/782 [==============================] - 2s 3ms/step - loss: 0.5068 - accuracy: 0.8460\n",
            "1563/1563 [==============================] - 5s 3ms/step - loss: 0.6487 - accuracy: 0.7997\n",
            "782/782 [==============================] - 2s 2ms/step - loss: 0.5178 - accuracy: 0.8423\n",
            "1563/1563 [==============================] - 5s 3ms/step - loss: 0.6440 - accuracy: 0.8020\n",
            "782/782 [==============================] - 2s 2ms/step - loss: 0.5520 - accuracy: 0.8296\n",
            "1563/1563 [==============================] - 5s 3ms/step - loss: 0.6429 - accuracy: 0.8030\n",
            "782/782 [==============================] - 2s 2ms/step - loss: 0.4961 - accuracy: 0.8504\n",
            "1563/1563 [==============================] - 5s 3ms/step - loss: 0.6528 - accuracy: 0.7994\n",
            "782/782 [==============================] - 2s 2ms/step - loss: 0.5138 - accuracy: 0.8440\n",
            "1563/1563 [==============================] - 5s 3ms/step - loss: 0.6463 - accuracy: 0.8012\n",
            "782/782 [==============================] - 2s 2ms/step - loss: 0.5324 - accuracy: 0.8352\n",
            "1563/1563 [==============================] - 6s 3ms/step - loss: 0.6524 - accuracy: 0.7995\n",
            "782/782 [==============================] - 2s 2ms/step - loss: 0.5124 - accuracy: 0.8430\n",
            "1563/1563 [==============================] - 5s 3ms/step - loss: 0.6561 - accuracy: 0.7970\n",
            "782/782 [==============================] - 2s 2ms/step - loss: 0.4972 - accuracy: 0.8518\n",
            "1563/1563 [==============================] - 5s 3ms/step - loss: 0.6493 - accuracy: 0.8004\n",
            "782/782 [==============================] - 2s 2ms/step - loss: 0.5119 - accuracy: 0.8422\n",
            "1563/1563 [==============================] - 5s 3ms/step - loss: 0.6518 - accuracy: 0.7991\n",
            "782/782 [==============================] - 2s 2ms/step - loss: 0.5156 - accuracy: 0.8430\n",
            "1563/1563 [==============================] - 5s 3ms/step - loss: 0.6472 - accuracy: 0.8002\n",
            "782/782 [==============================] - 2s 2ms/step - loss: 0.5160 - accuracy: 0.8444\n",
            "1563/1563 [==============================] - 5s 3ms/step - loss: 0.6421 - accuracy: 0.8007\n",
            "782/782 [==============================] - 2s 2ms/step - loss: 0.5294 - accuracy: 0.8390\n",
            "1563/1563 [==============================] - 5s 3ms/step - loss: 0.6551 - accuracy: 0.7993\n",
            "782/782 [==============================] - 2s 2ms/step - loss: 0.5633 - accuracy: 0.8215\n",
            "1563/1563 [==============================] - 5s 3ms/step - loss: 0.6535 - accuracy: 0.7983\n",
            "782/782 [==============================] - 2s 2ms/step - loss: 0.5218 - accuracy: 0.8409\n",
            "1563/1563 [==============================] - 5s 3ms/step - loss: 0.6417 - accuracy: 0.8023\n",
            "782/782 [==============================] - 2s 2ms/step - loss: 0.5458 - accuracy: 0.8330\n",
            "1563/1563 [==============================] - 5s 3ms/step - loss: 0.6496 - accuracy: 0.8012\n",
            "782/782 [==============================] - 2s 2ms/step - loss: 0.5263 - accuracy: 0.8360\n",
            "1563/1563 [==============================] - 5s 3ms/step - loss: 0.6588 - accuracy: 0.7969\n",
            "782/782 [==============================] - 2s 2ms/step - loss: 0.5316 - accuracy: 0.8358\n",
            "1563/1563 [==============================] - 5s 3ms/step - loss: 0.6441 - accuracy: 0.8014\n",
            "782/782 [==============================] - 2s 2ms/step - loss: 0.5459 - accuracy: 0.8328\n",
            "1563/1563 [==============================] - 5s 3ms/step - loss: 0.6486 - accuracy: 0.8005\n",
            "782/782 [==============================] - 2s 2ms/step - loss: 0.5232 - accuracy: 0.8399\n",
            "1563/1563 [==============================] - 5s 3ms/step - loss: 0.6506 - accuracy: 0.7997\n",
            "782/782 [==============================] - 2s 2ms/step - loss: 0.5176 - accuracy: 0.8437\n",
            "1563/1563 [==============================] - 5s 3ms/step - loss: 0.6422 - accuracy: 0.8019\n",
            "782/782 [==============================] - 2s 2ms/step - loss: 0.5438 - accuracy: 0.8339\n",
            "1563/1563 [==============================] - 5s 3ms/step - loss: 0.6439 - accuracy: 0.8013\n",
            "782/782 [==============================] - 2s 2ms/step - loss: 0.5175 - accuracy: 0.8403\n",
            "1563/1563 [==============================] - 5s 3ms/step - loss: 0.6500 - accuracy: 0.8003\n",
            "782/782 [==============================] - 2s 2ms/step - loss: 0.4991 - accuracy: 0.8494\n",
            "1563/1563 [==============================] - 5s 3ms/step - loss: 0.6455 - accuracy: 0.8006\n",
            "782/782 [==============================] - 2s 2ms/step - loss: 0.5166 - accuracy: 0.8440\n",
            "1563/1563 [==============================] - 5s 3ms/step - loss: 0.6455 - accuracy: 0.8002\n",
            "782/782 [==============================] - 2s 2ms/step - loss: 0.5207 - accuracy: 0.8401\n",
            "1563/1563 [==============================] - 5s 3ms/step - loss: 0.6514 - accuracy: 0.7998\n",
            "782/782 [==============================] - 2s 2ms/step - loss: 0.5311 - accuracy: 0.8404\n",
            "1563/1563 [==============================] - 5s 3ms/step - loss: 0.6465 - accuracy: 0.8008\n",
            "782/782 [==============================] - 2s 2ms/step - loss: 0.5256 - accuracy: 0.8401\n",
            "1563/1563 [==============================] - 5s 3ms/step - loss: 0.6510 - accuracy: 0.8004\n",
            "782/782 [==============================] - 2s 2ms/step - loss: 0.5029 - accuracy: 0.8446\n",
            "1563/1563 [==============================] - 6s 3ms/step - loss: 0.6486 - accuracy: 0.7987\n",
            "782/782 [==============================] - 2s 2ms/step - loss: 0.5201 - accuracy: 0.8420\n",
            "1563/1563 [==============================] - 5s 3ms/step - loss: 0.6434 - accuracy: 0.8011\n",
            "782/782 [==============================] - 2s 2ms/step - loss: 0.5316 - accuracy: 0.8374\n",
            "1563/1563 [==============================] - 5s 3ms/step - loss: 0.6443 - accuracy: 0.8028\n",
            "782/782 [==============================] - 2s 2ms/step - loss: 0.5245 - accuracy: 0.8386\n",
            "1563/1563 [==============================] - 5s 3ms/step - loss: 0.6486 - accuracy: 0.8010\n",
            "782/782 [==============================] - 2s 2ms/step - loss: 0.4993 - accuracy: 0.8492\n",
            "1563/1563 [==============================] - 5s 3ms/step - loss: 0.6447 - accuracy: 0.8006\n",
            "782/782 [==============================] - 2s 2ms/step - loss: 0.5507 - accuracy: 0.8299\n",
            "1563/1563 [==============================] - 5s 3ms/step - loss: 0.6455 - accuracy: 0.8004\n",
            "782/782 [==============================] - 2s 2ms/step - loss: 0.5020 - accuracy: 0.8478\n",
            "1563/1563 [==============================] - 5s 3ms/step - loss: 0.6536 - accuracy: 0.7995\n",
            "782/782 [==============================] - 2s 2ms/step - loss: 0.5066 - accuracy: 0.8472\n",
            "1563/1563 [==============================] - 5s 3ms/step - loss: 0.6409 - accuracy: 0.8027\n",
            "782/782 [==============================] - 2s 2ms/step - loss: 0.5285 - accuracy: 0.8383\n",
            "1563/1563 [==============================] - 5s 3ms/step - loss: 0.6486 - accuracy: 0.8006\n",
            "782/782 [==============================] - 2s 2ms/step - loss: 0.5223 - accuracy: 0.8418\n",
            "1563/1563 [==============================] - 5s 3ms/step - loss: 0.6471 - accuracy: 0.7994\n",
            "782/782 [==============================] - 2s 2ms/step - loss: 0.5251 - accuracy: 0.8421\n",
            "1563/1563 [==============================] - 5s 3ms/step - loss: 0.6413 - accuracy: 0.8023\n",
            "782/782 [==============================] - 2s 2ms/step - loss: 0.5131 - accuracy: 0.8433\n",
            "1563/1563 [==============================] - 6s 3ms/step - loss: 0.6458 - accuracy: 0.8022\n",
            "782/782 [==============================] - 2s 2ms/step - loss: 0.5269 - accuracy: 0.8389\n",
            "1563/1563 [==============================] - 5s 3ms/step - loss: 0.6566 - accuracy: 0.7969\n",
            "782/782 [==============================] - 2s 2ms/step - loss: 0.5302 - accuracy: 0.8398\n",
            "1563/1563 [==============================] - 5s 3ms/step - loss: 0.6405 - accuracy: 0.8035\n",
            "782/782 [==============================] - 2s 2ms/step - loss: 0.5185 - accuracy: 0.8428\n",
            "1563/1563 [==============================] - 5s 3ms/step - loss: 0.6476 - accuracy: 0.8020\n",
            "782/782 [==============================] - 2s 2ms/step - loss: 0.5199 - accuracy: 0.8391\n",
            "1563/1563 [==============================] - 5s 3ms/step - loss: 0.6524 - accuracy: 0.7992\n",
            "782/782 [==============================] - 2s 2ms/step - loss: 0.5147 - accuracy: 0.8422\n",
            "1563/1563 [==============================] - 5s 3ms/step - loss: 0.6465 - accuracy: 0.8010\n",
            "782/782 [==============================] - 2s 2ms/step - loss: 0.5186 - accuracy: 0.8432\n",
            "1563/1563 [==============================] - 5s 3ms/step - loss: 0.6456 - accuracy: 0.8024\n",
            "782/782 [==============================] - 2s 2ms/step - loss: 0.5116 - accuracy: 0.8432\n",
            "1563/1563 [==============================] - 5s 3ms/step - loss: 0.6440 - accuracy: 0.7993\n",
            "782/782 [==============================] - 2s 2ms/step - loss: 0.5128 - accuracy: 0.8468\n",
            "1563/1563 [==============================] - 5s 3ms/step - loss: 0.6470 - accuracy: 0.8011\n",
            "782/782 [==============================] - 2s 2ms/step - loss: 0.5237 - accuracy: 0.8402\n",
            "1563/1563 [==============================] - 5s 3ms/step - loss: 0.6458 - accuracy: 0.8006\n",
            "782/782 [==============================] - 2s 2ms/step - loss: 0.5063 - accuracy: 0.8468\n",
            "1563/1563 [==============================] - 5s 3ms/step - loss: 0.6508 - accuracy: 0.8002\n",
            "782/782 [==============================] - 2s 2ms/step - loss: 0.5255 - accuracy: 0.8397\n",
            "1563/1563 [==============================] - 5s 3ms/step - loss: 0.6440 - accuracy: 0.8020\n",
            "782/782 [==============================] - 2s 2ms/step - loss: 0.5279 - accuracy: 0.8407\n",
            "1563/1563 [==============================] - 5s 3ms/step - loss: 0.6493 - accuracy: 0.8002\n",
            "782/782 [==============================] - 2s 2ms/step - loss: 0.5345 - accuracy: 0.8357\n",
            "1563/1563 [==============================] - 5s 3ms/step - loss: 0.6505 - accuracy: 0.7982\n",
            "782/782 [==============================] - 2s 2ms/step - loss: 0.5271 - accuracy: 0.8431\n",
            "1563/1563 [==============================] - 5s 3ms/step - loss: 0.6477 - accuracy: 0.7989\n",
            "782/782 [==============================] - 2s 2ms/step - loss: 0.5457 - accuracy: 0.8356\n",
            "2344/2344 [==============================] - 8s 3ms/step - loss: 0.6025 - accuracy: 0.8164\n"
          ]
        }
      ]
    },
    {
      "cell_type": "code",
      "metadata": {
        "id": "pslQN3T-BfGh",
        "colab": {
          "base_uri": "https://localhost:8080/"
        },
        "outputId": "c0ce274f-4105-49fe-c90c-66f889edfe2a"
      },
      "source": [
        "print(\"Gridsearch runtime {0:.3} mins\".format( (end-start)/60 ))"
      ],
      "execution_count": 108,
      "outputs": [
        {
          "output_type": "stream",
          "name": "stdout",
          "text": [
            "Gridsearch runtime 8.14 mins\n"
          ]
        }
      ]
    },
    {
      "cell_type": "code",
      "metadata": {
        "id": "cxaAl3cvBfGh",
        "colab": {
          "base_uri": "https://localhost:8080/",
          "height": 402
        },
        "outputId": "e4abc7a7-2540-4eac-ca43-63f560693d73"
      },
      "source": [
        "# use the mean accuracy from the CV splits for determining best model score \n",
        "means = grid.cv_results_['mean_test_score']\n",
        "stds = grid.cv_results_['std_test_score']\n",
        "params = grid.cv_results_['params']\n",
        "\n",
        "# move l2 penalty values outside of dictionary and into a list\n",
        "param_values = [param_dict[\"maxnorm_wc\"] for param_dict in params]\n",
        "\n",
        "# plot accuracy vs l2_reg_penalty\n",
        "plt.figure(figsize=(20,6))\n",
        "plt.grid()\n",
        "plt.errorbar(param_values, means, yerr=stds, ecolor=\"orange\")\n",
        "plt.title(\"MaxNorm weight constraint: Model Accuracy vs MaxNorm\")\n",
        "plt.ylabel(\"Validation Accuracy\", )\n",
        "plt.xlabel(\"Max Norm for Weight Vector \");"
      ],
      "execution_count": 109,
      "outputs": [
        {
          "output_type": "display_data",
          "data": {
            "text/plain": [
              "<Figure size 1440x432 with 1 Axes>"
            ],
            "image/png": "[encoded data removed]"
          },
          "metadata": {
            "needs_background": "light"
          }
        }
      ]
    },
    {
      "cell_type": "code",
      "source": [
        "grid_result.best_params_"
      ],
      "metadata": {
        "colab": {
          "base_uri": "https://localhost:8080/"
        },
        "id": "7N3IqtLj1TGa",
        "outputId": "b2da2aee-42c3-4ab8-9b77-f2b5177b2685"
      },
      "execution_count": 113,
      "outputs": [
        {
          "output_type": "execute_result",
          "data": {
            "text/plain": [
              "{'epochs': 1, 'maxnorm_wc': 2.5}"
            ]
          },
          "metadata": {},
          "execution_count": 113
        }
      ]
    },
    {
      "cell_type": "code",
      "source": [
        "grid_result.best_estimator_"
      ],
      "metadata": {
        "colab": {
          "base_uri": "https://localhost:8080/"
        },
        "id": "_Mqqtb5s2Tk3",
        "outputId": "8d568732-0f6c-4bcc-9e5f-f7ca8dbef050"
      },
      "execution_count": 114,
      "outputs": [
        {
          "output_type": "execute_result",
          "data": {
            "text/plain": [
              "<keras.wrappers.scikit_learn.KerasClassifier at 0x7ff3dc78c490>"
            ]
          },
          "metadata": {},
          "execution_count": 114
        }
      ]
    },
    {
      "cell_type": "code",
      "metadata": {
        "deletable": false,
        "nbgrader": {
          "cell_type": "code",
          "checksum": "cfe7bd54a7a14ba7ee63c88d6d1828b4",
          "grade": false,
          "grade_id": "cell-f67372e0b9b30614",
          "locked": false,
          "schema_version": 3,
          "solution": true,
          "task": false
        },
        "id": "D3aeaN_NBfGi"
      },
      "source": [
        "# get the best value of max norm from grid and save to best_max_norm_val\n",
        "\n",
        "best_max_norm_val = 2.5\n",
        "\n",
        "# get the best trained model from grid and save to best_model\n",
        "\n",
        "best_model = grid_result.best_estimator_\n",
        "\n",
        "# get the weights from the best trained model and save to best_weights\n",
        "\n",
        "# YOUR CODE HERE\n",
        "#raise NotImplementedError()"
      ],
      "execution_count": null,
      "outputs": []
    },
    {
      "cell_type": "code",
      "metadata": {
        "id": "udo9kxwWBfGi"
      },
      "source": [
        "best_max_norm_val"
      ],
      "execution_count": null,
      "outputs": []
    },
    {
      "cell_type": "code",
      "metadata": {
        "id": "aYdmRUJSBfGi"
      },
      "source": [
        "# we can verify that the norm of our weights are indeed below the maximum allowed value \n",
        "np.linalg.norm(best_weights[0][0])"
      ],
      "execution_count": null,
      "outputs": []
    },
    {
      "cell_type": "code",
      "metadata": {
        "deletable": false,
        "nbgrader": {
          "cell_type": "code",
          "checksum": "67f65bd636e3b3b3bc7d20c02ba6b666",
          "grade": false,
          "grade_id": "cell-e752c1a8c853985d",
          "locked": false,
          "schema_version": 3,
          "solution": true,
          "task": false
        },
        "id": "3ew76uwZBfGi"
      },
      "source": [
        "# train a model using the max_norm_val value that scored the lowest \n",
        "\n",
        "# build a model using build_complex_model and worse_max_norm_val and save it to worse_model\n",
        "\n",
        "# fit model \n",
        "\n",
        "# get weights from worse performing model \n",
        "\n",
        "\n",
        "# YOUR CODE HERE\n",
        "raise NotImplementedError()"
      ],
      "execution_count": null,
      "outputs": []
    },
    {
      "cell_type": "markdown",
      "source": [
        "Sample the initial weights from the `Glorot Uniform Weight Initializer`, for comparison"
      ],
      "metadata": {
        "id": "GgVx0Yg-7OwJ"
      }
    },
    {
      "cell_type": "code",
      "metadata": {
        "deletable": false,
        "nbgrader": {
          "cell_type": "code",
          "checksum": "a38d5d4db707124b31a662fb4743b049",
          "grade": false,
          "grade_id": "cell-5c1aa4543e68487d",
          "locked": false,
          "schema_version": 3,
          "solution": true,
          "task": false
        },
        "id": "DEx3m9vVBfGj"
      },
      "source": [
        "# index for the 1st hidden layer weights in best_weights and save to best_hidden_weights\n",
        "\n",
        "# index for the 1st hidden layer weights in worse_weights and save to worse_hidden_weights\n",
        "\n",
        "# Keras models randomly samples from the GlorotUniform distribution for the initial values of model weights \n",
        "\n",
        "# instantiate GlorotUniform and sample 500 weights and save to initial_weight_values\n",
        "# hint: use shape=(1, 500)\n",
        "\n",
        "\n",
        "# YOUR CODE HERE\n",
        "raise NotImplementedError()"
      ],
      "execution_count": null,
      "outputs": []
    },
    {
      "cell_type": "code",
      "metadata": {
        "id": "Ck8kH2LeBfGk"
      },
      "source": [
        "# move all weights to a dataframe for ease of analysis \n",
        "cols = [\"best_hidden_weights\", \"worse_hidden_weights\", \"initial_weight_values\"]\n",
        "data = [best_hidden_weights, worse_hidden_weights, initial_weight_values]\n",
        "df_maxnorm= pd.DataFrame(data=data).T\n",
        "df_maxnorm.columns = cols"
      ],
      "execution_count": null,
      "outputs": []
    },
    {
      "cell_type": "code",
      "metadata": {
        "id": "jiT661fNBfGk"
      },
      "source": [
        "df_maxnorm.describe()"
      ],
      "execution_count": null,
      "outputs": []
    },
    {
      "cell_type": "code",
      "metadata": {
        "id": "N6HmKEFHBfGl"
      },
      "source": [
        "# plot the distributions for each weight column \n",
        "df_maxnorm.hist(figsize=(20,12));"
      ],
      "execution_count": null,
      "outputs": []
    },
    {
      "cell_type": "markdown",
      "metadata": {
        "id": "GJLb71QuBfGm"
      },
      "source": [
        "## Observations \n",
        "\n",
        "Take a look at the statistical table and the plots. Then answer the following questions. \n",
        "\n",
        "**How do the hidden layer weights from the best performing model compare to the initial weight values?**"
      ]
    },
    {
      "cell_type": "markdown",
      "metadata": {
        "deletable": false,
        "nbgrader": {
          "cell_type": "markdown",
          "checksum": "f43fe1110cdcea8d1e4b432fe78d4e49",
          "grade": true,
          "grade_id": "cell-40a44d19694941b8",
          "locked": false,
          "points": 0,
          "schema_version": 3,
          "solution": true,
          "task": false
        },
        "id": "9Ow24epzBfGm"
      },
      "source": [
        "YOUR ANSWER HERE"
      ]
    },
    {
      "cell_type": "markdown",
      "metadata": {
        "id": "1C-q89taBfGm"
      },
      "source": [
        "**What was the effect of using the weight constraint value in MaxNorm in the best performing model?**"
      ]
    },
    {
      "cell_type": "markdown",
      "metadata": {
        "deletable": false,
        "nbgrader": {
          "cell_type": "markdown",
          "checksum": "b1c59c58a5abdbc0b509983821198dba",
          "grade": true,
          "grade_id": "cell-4f9e1e134124e512",
          "locked": false,
          "points": 0,
          "schema_version": 3,
          "solution": true,
          "task": false
        },
        "id": "JEnRcaxEBfGm"
      },
      "source": [
        "YOUR ANSWER HERE"
      ]
    },
    {
      "cell_type": "markdown",
      "metadata": {
        "id": "LY9joSwUBfGn"
      },
      "source": [
        "**What was the effect of using the weight constraint value in MaxNorm in the worse performing model?**"
      ]
    },
    {
      "cell_type": "markdown",
      "metadata": {
        "deletable": false,
        "nbgrader": {
          "cell_type": "markdown",
          "checksum": "0062b4ddfad487c39633c37f4710b752",
          "grade": true,
          "grade_id": "cell-4c289ce70c34048a",
          "locked": false,
          "points": 0,
          "schema_version": 3,
          "solution": true,
          "task": false
        },
        "id": "8_Pw4Jb1BfGn"
      },
      "source": [
        "YOUR ANSWER HERE"
      ]
    },
    {
      "cell_type": "markdown",
      "metadata": {
        "id": "fWmTydgiBfGn"
      },
      "source": [
        "**Given what you know about MaxNorm regularization, are you surprised by these results?**"
      ]
    },
    {
      "cell_type": "markdown",
      "metadata": {
        "deletable": false,
        "nbgrader": {
          "cell_type": "markdown",
          "checksum": "3c36931d3532a8cbcb4ea0c956378728",
          "grade": true,
          "grade_id": "cell-77366a912217da5d",
          "locked": false,
          "points": 0,
          "schema_version": 3,
          "solution": true,
          "task": false
        },
        "id": "EiAQlNHuBfGn"
      },
      "source": [
        "YOUR ANSWER HERE"
      ]
    },
    {
      "cell_type": "markdown",
      "metadata": {
        "id": "l_INtS2vBfGn"
      },
      "source": [
        "-----\n",
        "# Experiment 3: Identify the relationship between model performance and Dropout\n",
        "\n",
        "\n",
        "![](https://miro.medium.com/max/981/1*EinUlWw1n8vbcLyT0zx4gw.png)\n",
        "\n",
        "In the 3rd experiment, we will use gridsearch to see how varying the value of the the dropout probability affects model performance. \n",
        "\n",
        "Recall from lecture that dropout tends to perform best when used with `MaxNorm` regularization. Since this is the case, we will gridsearch both dropout probability and the weight constraint for `MaxNorm`. \n",
        "\n",
        "If interested, feel free to read (or just skim) through the original publication on [**Drop Out**](https://jmlr.org/papers/volume15/srivastava14a.old/srivastava14a.pdf). \n",
        "\n",
        "**Key Take aways:** \n",
        "\n",
        "1. During training, dropout will probabilistically \"turn off\" some neurons in the layer that dropout is implemented in. \n",
        "2. During inference (ie. making predictions on the test set) all neurons are used (i.e. no dropout is applied).\n",
        "3. Dropout works best when used with MaxNorm\n"
      ]
    },
    {
      "cell_type": "code",
      "source": [
        "# build out our hyperparameter dictionary \n",
        "hyper_parameters = {\n",
        "    # for the sake of runtime, let's vary maxnorm_wc between 0.5 and 5.0\n",
        "    \"maxnorm_wc\": np.linspace(0.5, 5, num=5),\n",
        "    # take note that l1_reg_penalty values are in powers of 10 \n",
        "    \"dropout_prob\": np.linspace(0.0, 0.6, num=5), \n",
        "    \"epochs\": [1] # default is 1, in order to change it we must provide value here because we can provide a parameter value for model.fit() directly when using gridsearch\n",
        "}\n",
        "\n",
        "hyper_parameters"
      ],
      "metadata": {
        "id": "ce81CswWlP1N"
      },
      "execution_count": null,
      "outputs": []
    },
    {
      "cell_type": "code",
      "source": [
        "start=time()\n",
        "# Create and run Grid Search\n",
        "grid = GridSearchCV(estimator=model, \n",
        "                    param_grid=hyper_parameters, \n",
        "                    n_jobs=-2, \n",
        "                    verbose=1, \n",
        "                    cv=3)\n",
        "\n",
        "grid_result = grid.fit(X_train, y_train)\n",
        "end=time()"
      ],
      "metadata": {
        "id": "6CN5X-D2lTS4"
      },
      "execution_count": null,
      "outputs": []
    },
    {
      "cell_type": "code",
      "metadata": {
        "id": "Vg4ifWNtBfGo"
      },
      "source": [
        "print(\"Gridsearch runtime {0:.3} mins\".format( (end-start)/60 ))"
      ],
      "execution_count": null,
      "outputs": []
    },
    {
      "cell_type": "code",
      "metadata": {
        "id": "CqO15wkmBfGo"
      },
      "source": [
        "# use the mean accuracy from the CV splits for determining best model score \n",
        "means = grid.cv_results_['mean_test_score']\n",
        "stds = grid.cv_results_['std_test_score']\n",
        "params = grid.cv_results_['params']"
      ],
      "execution_count": null,
      "outputs": []
    },
    {
      "cell_type": "markdown",
      "metadata": {
        "id": "2-v92GwGBfGo"
      },
      "source": [
        "Since there are 2 independent hyperparameters which affect the validation accuracy (`dropout_prob` and `maxnorm_wc`), <br> \n",
        "we need a two-dimensional plot. A heat map will work. "
      ]
    },
    {
      "cell_type": "code",
      "metadata": {
        "id": "I-W5UmNcBfGp"
      },
      "source": [
        "dropout_prob_list = [  param_dict[\"dropout_prob\"]  for param_dict in params]\n",
        "maxnorm_wc_list = [  param_dict[\"maxnorm_wc\"]  for param_dict in params]\n",
        "data = [means, dropout_prob_list, maxnorm_wc_list ]\n",
        "\n",
        "cols = [\"val_acc\", \"dropout_prob\", \"maxnorm_wc\"]\n",
        "df_exp3 =pd.DataFrame(data=data).T\n",
        "df_exp3.columns = cols\n",
        "df_exp3.dropout_prob = df_exp3.dropout_prob.round(2)\n",
        "\n",
        "# pivot dataframe in preparation for heat map\n",
        "df_exp3 = df_exp3.pivot(\"maxnorm_wc\", \"dropout_prob\", \"val_acc\")"
      ],
      "execution_count": null,
      "outputs": []
    },
    {
      "cell_type": "code",
      "metadata": {
        "id": "FqilXbTYBfGp"
      },
      "source": [
        "# Draw a heatmap with the val_acc values in each cell\n",
        "f, ax = plt.subplots(figsize=(18, 8))\n",
        "sns.heatmap(df_exp3, annot=True,  linewidths=.5, ax=ax);"
      ],
      "execution_count": null,
      "outputs": []
    },
    {
      "cell_type": "markdown",
      "metadata": {
        "id": "9dTgA0LEBfGp"
      },
      "source": [
        "### Observations \n",
        "\n",
        "We can see the dropout probabilities in the horizontal axis and the `MaxNorm` weight constraint values in the vertical axis. The values in the cells are the validation accuracy that corresponds to a pair of regularization values.\n",
        "\n",
        "Take a look at the heat map and answer the following questions. Note that depending on which model you used (the simple or complex one) your answers might be different from that of others. "
      ]
    },
    {
      "cell_type": "markdown",
      "metadata": {
        "id": "uz1meXeiBfGp"
      },
      "source": [
        "**What range of dropout probability values tend to produce the highest validation accuracy?**"
      ]
    },
    {
      "cell_type": "markdown",
      "metadata": {
        "deletable": false,
        "nbgrader": {
          "cell_type": "markdown",
          "checksum": "0f0013d4e07104a03b4d51664a308f53",
          "grade": true,
          "grade_id": "cell-4e0cb7a9240b1531",
          "locked": false,
          "points": 0,
          "schema_version": 3,
          "solution": true,
          "task": false
        },
        "id": "xjxa3AaoBfGp"
      },
      "source": [
        "YOUR ANSWER HERE"
      ]
    },
    {
      "cell_type": "markdown",
      "metadata": {
        "id": "yiha7_G-BfGp"
      },
      "source": [
        "**What range of maxnorm weight constraints tend to produce the highest validation accuracy?**"
      ]
    },
    {
      "cell_type": "markdown",
      "metadata": {
        "deletable": false,
        "nbgrader": {
          "cell_type": "markdown",
          "checksum": "9fd88f0bb870a910b925d60b38d17694",
          "grade": true,
          "grade_id": "cell-99539755d7d328f7",
          "locked": false,
          "points": 0,
          "schema_version": 3,
          "solution": true,
          "task": false
        },
        "id": "ftoVpYqIBfGp"
      },
      "source": [
        "YOUR ANSWER HERE"
      ]
    },
    {
      "cell_type": "markdown",
      "metadata": {
        "id": "4M7ZARjJBfGp"
      },
      "source": [
        "**When taken together, what combinations of dropout probability and maxnorm weight constraints tend to produce the highest validation accuracy?**"
      ]
    },
    {
      "cell_type": "markdown",
      "metadata": {
        "deletable": false,
        "nbgrader": {
          "cell_type": "markdown",
          "checksum": "fee1e09ed8f6d354bd7b6e2986c2b811",
          "grade": true,
          "grade_id": "cell-5e19a56b4a2d975d",
          "locked": false,
          "points": 0,
          "schema_version": 3,
          "solution": true,
          "task": false
        },
        "id": "rakqIiHNBfGq"
      },
      "source": [
        "YOUR ANSWER HERE"
      ]
    },
    {
      "cell_type": "markdown",
      "metadata": {
        "id": "VnwcQRx3BfGr"
      },
      "source": [
        "**Do you think that using dropout was helpful in increasing model performance?**"
      ]
    },
    {
      "cell_type": "markdown",
      "metadata": {
        "deletable": false,
        "nbgrader": {
          "cell_type": "markdown",
          "checksum": "de9c1bcff3c5eb6266cc80632d0956f0",
          "grade": true,
          "grade_id": "cell-d2a2f7b284c801dc",
          "locked": false,
          "points": 0,
          "schema_version": 3,
          "solution": true,
          "task": false
        },
        "id": "mtdlzA8WBfGr"
      },
      "source": [
        "YOUR ANSWER HERE"
      ]
    },
    {
      "cell_type": "markdown",
      "metadata": {
        "id": "r3qKJpF_BfGs"
      },
      "source": [
        "_____\n",
        "\n",
        "#Part 2: Model Deployment\n",
        "# Experiment 4: Train, Save, and Load a Keras model\n",
        "\n",
        "Let's get some practice with how to save and load trained Keras models \n",
        "\n",
        "For this experiment, review the section on Saving and Loading models from the guided project, then: \n",
        "\n",
        "- Build a model of your choosing\n",
        "- Gridsearch the model with a method of your choosing\n",
        "- Save the trained model to a file\n",
        "- Load the trained model from the file\n",
        "- Just as we did in the Guided Project, evaluate the loaded model using a test set and verify that the results of the loaded model match that of the original model that was saved."
      ]
    },
    {
      "cell_type": "code",
      "metadata": {
        "id": "aki0LkDpBfGs"
      },
      "source": [
        "# YOUR CODE HERE"
      ],
      "execution_count": null,
      "outputs": []
    }
  ]
}