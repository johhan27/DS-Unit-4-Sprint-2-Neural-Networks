{
  "nbformat": 4,
  "nbformat_minor": 0,
  "metadata": {
    "accelerator": "GPU",
    "colab": {
      "name": "Copy of LS_DS_421_Architect_Assignment.ipynb",
      "provenance": [],
      "collapsed_sections": [],
      "include_colab_link": true
    },
    "kernelspec": {
      "display_name": "Python 3",
      "language": "python",
      "name": "python3"
    },
    "language_info": {
      "codemirror_mode": {
        "name": "ipython",
        "version": 3
      },
      "file_extension": ".py",
      "mimetype": "text/x-python",
      "name": "python",
      "nbconvert_exporter": "python",
      "pygments_lexer": "ipython3",
      "version": "3.8.5"
    }
  },
  "cells": [
    {
      "cell_type": "markdown",
      "metadata": {
        "id": "view-in-github",
        "colab_type": "text"
      },
      "source": [
        "<a href=\"https://colab.research.google.com/github/johhan27/DS-Unit-4-Sprint-2-Neural-Networks/blob/main/Copy_of_LS_DS_421_Architect_Assignment.ipynb\" target=\"_parent\"><img src=\"https://colab.research.google.com/assets/colab-badge.svg\" alt=\"Open In Colab\"/></a>"
      ]
    },
    {
      "cell_type": "markdown",
      "metadata": {
        "id": "ObyHCH8HvHSf"
      },
      "source": [
        "\n",
        "# *Data Science Unit 4 Sprint 2 Assignment 1*\n",
        "\n",
        "Use TensorFlow Keras and a sample of the [Quickdraw dataset](https://github.com/googlecreativelab/quickdraw-dataset) to build a sketch classification model. The dataset has been sampled to only 10 classes and 10000 observations per class. \n",
        "\n",
        "### Objective\n",
        "\n",
        "- Build a baseline classification model then, run a few experiments with different optimizers and learning rates. \n",
        "- Don't forget to [**switch to GPU if you're running your notebook on Colab!**](https://colab.research.google.com/notebooks/gpu.ipynb)"
      ]
    },
    {
      "cell_type": "markdown",
      "metadata": {
        "id": "s-Tc3ovEyQ9b"
      },
      "source": [
        "## Load Your Data"
      ]
    },
    {
      "cell_type": "code",
      "metadata": {
        "id": "CkU0pAYCvU8o"
      },
      "source": [
        "# imports in first cell \n",
        "import seaborn as sns\n",
        "import pandas as pd\n",
        "import numpy as np\n",
        "import tensorflow as tf \n",
        "import matplotlib.pyplot as plt\n",
        "from sklearn.utils import shuffle\n",
        "\n",
        "# use Sequential to build out your model\n",
        "from tensorflow.keras.models import Sequential\n",
        "\n",
        "# Dense layer is used for Fully Connected Forward Feeding networks\n",
        "from tensorflow.keras.layers import Dense"
      ],
      "execution_count": 1,
      "outputs": []
    },
    {
      "cell_type": "code",
      "metadata": {
        "id": "S1XYJRQKLj1B",
        "colab": {
          "base_uri": "https://localhost:8080/"
        },
        "outputId": "92c654e4-7951-4a1a-bb75-231c56fcbbd2"
      },
      "source": [
        "# load in data set\n",
        "data = np.load('quickdraw10.npz')\n",
        "X = data['arr_0']\n",
        "y = data['arr_1']\n",
        "\n",
        "\n",
        "print(X.shape)\n",
        "print(y.shape)"
      ],
      "execution_count": 2,
      "outputs": [
        {
          "output_type": "stream",
          "name": "stdout",
          "text": [
            "(100000, 784)\n",
            "(100000,)\n"
          ]
        }
      ]
    },
    {
      "cell_type": "code",
      "metadata": {
        "id": "c8qsDqdqvHDd"
      },
      "source": [
        "class_names = ['apple',\n",
        "             'anvil',\n",
        "             'airplane',\n",
        "             'banana',\n",
        "             'The Eiffel Tower',\n",
        "             'The Mona Lisa',\n",
        "             'The Great Wall of China',\n",
        "             'alarm clock',\n",
        "             'ant',\n",
        "             'asparagus']"
      ],
      "execution_count": 3,
      "outputs": []
    },
    {
      "cell_type": "code",
      "metadata": {
        "id": "Owbm1EbxvA5A",
        "colab": {
          "base_uri": "https://localhost:8080/",
          "height": 290
        },
        "outputId": "3f40711f-1baa-419d-e5c0-e777e64a540b"
      },
      "source": [
        "# these are your 10 unique images\n",
        "plt.figure(figsize=(10,5))\n",
        "start = 0\n",
        "\n",
        "for num, name in enumerate(class_names):\n",
        "    plt.subplot(2,5, num+1)\n",
        "    plt.xticks([])\n",
        "    plt.yticks([])\n",
        "    plt.grid(False)\n",
        "    plt.imshow(X[start].reshape(28,28), cmap=plt.cm.binary)\n",
        "    plt.xlabel(name)\n",
        "    start += 10000\n",
        "plt.show()"
      ],
      "execution_count": 4,
      "outputs": [
        {
          "output_type": "display_data",
          "data": {
            "image/png": "[encoded data removed]",
            "text/plain": [
              "<Figure size 720x360 with 10 Axes>"
            ]
          },
          "metadata": {}
        }
      ]
    },
    {
      "cell_type": "markdown",
      "metadata": {
        "id": "Av6i6t5QLj1D"
      },
      "source": [
        "Say hello to the Quickdraw dataset. \n",
        "\n",
        "You'll be using this dataset a lot this week as an alternative to the mnist, which we'll use in the guided projects. The nice thing about this dataset is that it's simple, which allows us to focus on our model, its various components, and gradually come to a better understanding of how to build neural networks without worrying about cleaning and prepping our image data much."
      ]
    },
    {
      "cell_type": "code",
      "metadata": {
        "id": "c97_M1WNvTNY"
      },
      "source": [
        "# always a good idea to shuffle your dataset \n",
        "X, y = shuffle(X, y)"
      ],
      "execution_count": 5,
      "outputs": []
    },
    {
      "cell_type": "markdown",
      "metadata": {
        "id": "jb70CbLVyK65"
      },
      "source": [
        "-----\n",
        "\n",
        "## Build Your Baseline Model\n",
        "\n",
        "Make sure that you\n",
        "\n",
        "- **Determine** the dimensionality of your input data by investigating **X**\n",
        "- **Normalize** your input data to values between 0 and 1 \n",
        "- **Determine** the number of neurons in your output layer by investigating **Y**\n",
        "- **Select** `sparse_categorical_crossentropy` as your loss function.\n",
        "- **Select** `sgd` as your optimizer.\n",
        "- **Add** 3 hidden layers to your model with the following number of nodes\n",
        "    - h1 has 500 nodes\n",
        "    - h2 has 250 nodes\n",
        "    - h3 has 100 nodes\n",
        "    \n",
        "- **Set** epochs to 20 \n",
        "- **Use** the `validation_split` command to create a training/validation dataset within the model automatically, so you don't have to do it yourself.\n",
        "    -  Specify a percentage such as .2 in your fit statement.\n",
        " \n",
        " \n",
        "Not sure what the various parameters are for or what values to assign to them?\n",
        "\n",
        "- Reference the guided project notebook for Sprint 2 Module 1\n",
        "- Reference the [**Keras documentation**](https://keras.io/api/)\n",
        "- Google other examples\n",
        "- Discuss your results with classmates "
      ]
    },
    {
      "cell_type": "code",
      "metadata": {
        "colab": {
          "base_uri": "https://localhost:8080/",
          "height": 266
        },
        "id": "qjIJauTvg5fE",
        "outputId": "a9be5ce0-20a5-4162-852b-41bcbcdd268d"
      },
      "source": [
        "plt.imshow(X[25000].reshape(28,28), cmap=plt.cm.binary)\n",
        "plt.show()"
      ],
      "execution_count": 6,
      "outputs": [
        {
          "output_type": "display_data",
          "data": {
            "image/png": "[encoded data removed]",
            "text/plain": [
              "<Figure size 432x288 with 1 Axes>"
            ]
          },
          "metadata": {
            "needs_background": "light"
          }
        }
      ]
    },
    {
      "cell_type": "code",
      "metadata": {
        "colab": {
          "base_uri": "https://localhost:8080/"
        },
        "id": "6TVELRTlgaI4",
        "outputId": "151f42fb-181b-4385-a3bf-e564b08328f3"
      },
      "source": [
        "y[25000]"
      ],
      "execution_count": 7,
      "outputs": [
        {
          "output_type": "execute_result",
          "data": {
            "text/plain": [
              "1"
            ]
          },
          "metadata": {},
          "execution_count": 7
        }
      ]
    },
    {
      "cell_type": "code",
      "metadata": {
        "colab": {
          "base_uri": "https://localhost:8080/",
          "height": 1000
        },
        "id": "lhRvbLWSdLTZ",
        "outputId": "9f28506f-d060-48a0-8fad-9f50f56f8fec"
      },
      "source": [
        "test = X[25000].copy().reshape(28,28)\n",
        "test = pd.DataFrame(test)\n",
        "test"
      ],
      "execution_count": 8,
      "outputs": [
        {
          "output_type": "execute_result",
          "data": {
            "text/html": [
              "<div>\n",
              "<style scoped>\n",
              "    .dataframe tbody tr th:only-of-type {\n",
              "        vertical-align: middle;\n",
              "    }\n",
              "\n",
              "    .dataframe tbody tr th {\n",
              "        vertical-align: top;\n",
              "    }\n",
              "\n",
              "    .dataframe thead th {\n",
              "        text-align: right;\n",
              "    }\n",
              "</style>\n",
              "<table border=\"1\" class=\"dataframe\">\n",
              "  <thead>\n",
              "    <tr style=\"text-align: right;\">\n",
              "      <th></th>\n",
              "      <th>0</th>\n",
              "      <th>1</th>\n",
              "      <th>2</th>\n",
              "      <th>3</th>\n",
              "      <th>4</th>\n",
              "      <th>5</th>\n",
              "      <th>6</th>\n",
              "      <th>7</th>\n",
              "      <th>8</th>\n",
              "      <th>9</th>\n",
              "      <th>10</th>\n",
              "      <th>11</th>\n",
              "      <th>12</th>\n",
              "      <th>13</th>\n",
              "      <th>14</th>\n",
              "      <th>15</th>\n",
              "      <th>16</th>\n",
              "      <th>17</th>\n",
              "      <th>18</th>\n",
              "      <th>19</th>\n",
              "      <th>20</th>\n",
              "      <th>21</th>\n",
              "      <th>22</th>\n",
              "      <th>23</th>\n",
              "      <th>24</th>\n",
              "      <th>25</th>\n",
              "      <th>26</th>\n",
              "      <th>27</th>\n",
              "    </tr>\n",
              "  </thead>\n",
              "  <tbody>\n",
              "    <tr>\n",
              "      <th>0</th>\n",
              "      <td>0</td>\n",
              "      <td>0</td>\n",
              "      <td>0</td>\n",
              "      <td>0</td>\n",
              "      <td>0</td>\n",
              "      <td>0</td>\n",
              "      <td>0</td>\n",
              "      <td>0</td>\n",
              "      <td>0</td>\n",
              "      <td>0</td>\n",
              "      <td>0</td>\n",
              "      <td>0</td>\n",
              "      <td>0</td>\n",
              "      <td>0</td>\n",
              "      <td>0</td>\n",
              "      <td>0</td>\n",
              "      <td>0</td>\n",
              "      <td>0</td>\n",
              "      <td>0</td>\n",
              "      <td>0</td>\n",
              "      <td>0</td>\n",
              "      <td>0</td>\n",
              "      <td>0</td>\n",
              "      <td>0</td>\n",
              "      <td>0</td>\n",
              "      <td>0</td>\n",
              "      <td>0</td>\n",
              "      <td>0</td>\n",
              "    </tr>\n",
              "    <tr>\n",
              "      <th>1</th>\n",
              "      <td>0</td>\n",
              "      <td>0</td>\n",
              "      <td>0</td>\n",
              "      <td>0</td>\n",
              "      <td>0</td>\n",
              "      <td>0</td>\n",
              "      <td>0</td>\n",
              "      <td>0</td>\n",
              "      <td>0</td>\n",
              "      <td>0</td>\n",
              "      <td>0</td>\n",
              "      <td>0</td>\n",
              "      <td>0</td>\n",
              "      <td>0</td>\n",
              "      <td>0</td>\n",
              "      <td>0</td>\n",
              "      <td>0</td>\n",
              "      <td>0</td>\n",
              "      <td>0</td>\n",
              "      <td>0</td>\n",
              "      <td>0</td>\n",
              "      <td>0</td>\n",
              "      <td>0</td>\n",
              "      <td>0</td>\n",
              "      <td>0</td>\n",
              "      <td>0</td>\n",
              "      <td>0</td>\n",
              "      <td>0</td>\n",
              "    </tr>\n",
              "    <tr>\n",
              "      <th>2</th>\n",
              "      <td>0</td>\n",
              "      <td>0</td>\n",
              "      <td>0</td>\n",
              "      <td>0</td>\n",
              "      <td>0</td>\n",
              "      <td>0</td>\n",
              "      <td>0</td>\n",
              "      <td>0</td>\n",
              "      <td>0</td>\n",
              "      <td>0</td>\n",
              "      <td>0</td>\n",
              "      <td>0</td>\n",
              "      <td>0</td>\n",
              "      <td>0</td>\n",
              "      <td>0</td>\n",
              "      <td>0</td>\n",
              "      <td>0</td>\n",
              "      <td>0</td>\n",
              "      <td>0</td>\n",
              "      <td>0</td>\n",
              "      <td>0</td>\n",
              "      <td>0</td>\n",
              "      <td>0</td>\n",
              "      <td>0</td>\n",
              "      <td>0</td>\n",
              "      <td>0</td>\n",
              "      <td>0</td>\n",
              "      <td>0</td>\n",
              "    </tr>\n",
              "    <tr>\n",
              "      <th>3</th>\n",
              "      <td>0</td>\n",
              "      <td>0</td>\n",
              "      <td>0</td>\n",
              "      <td>0</td>\n",
              "      <td>0</td>\n",
              "      <td>0</td>\n",
              "      <td>0</td>\n",
              "      <td>0</td>\n",
              "      <td>0</td>\n",
              "      <td>0</td>\n",
              "      <td>0</td>\n",
              "      <td>0</td>\n",
              "      <td>0</td>\n",
              "      <td>0</td>\n",
              "      <td>0</td>\n",
              "      <td>0</td>\n",
              "      <td>0</td>\n",
              "      <td>0</td>\n",
              "      <td>0</td>\n",
              "      <td>0</td>\n",
              "      <td>0</td>\n",
              "      <td>0</td>\n",
              "      <td>0</td>\n",
              "      <td>0</td>\n",
              "      <td>0</td>\n",
              "      <td>0</td>\n",
              "      <td>0</td>\n",
              "      <td>0</td>\n",
              "    </tr>\n",
              "    <tr>\n",
              "      <th>4</th>\n",
              "      <td>0</td>\n",
              "      <td>0</td>\n",
              "      <td>0</td>\n",
              "      <td>0</td>\n",
              "      <td>0</td>\n",
              "      <td>0</td>\n",
              "      <td>0</td>\n",
              "      <td>0</td>\n",
              "      <td>0</td>\n",
              "      <td>0</td>\n",
              "      <td>0</td>\n",
              "      <td>0</td>\n",
              "      <td>0</td>\n",
              "      <td>0</td>\n",
              "      <td>0</td>\n",
              "      <td>0</td>\n",
              "      <td>0</td>\n",
              "      <td>0</td>\n",
              "      <td>0</td>\n",
              "      <td>0</td>\n",
              "      <td>0</td>\n",
              "      <td>0</td>\n",
              "      <td>0</td>\n",
              "      <td>0</td>\n",
              "      <td>0</td>\n",
              "      <td>0</td>\n",
              "      <td>0</td>\n",
              "      <td>0</td>\n",
              "    </tr>\n",
              "    <tr>\n",
              "      <th>5</th>\n",
              "      <td>0</td>\n",
              "      <td>0</td>\n",
              "      <td>0</td>\n",
              "      <td>0</td>\n",
              "      <td>0</td>\n",
              "      <td>0</td>\n",
              "      <td>0</td>\n",
              "      <td>0</td>\n",
              "      <td>0</td>\n",
              "      <td>0</td>\n",
              "      <td>0</td>\n",
              "      <td>0</td>\n",
              "      <td>0</td>\n",
              "      <td>0</td>\n",
              "      <td>0</td>\n",
              "      <td>0</td>\n",
              "      <td>0</td>\n",
              "      <td>0</td>\n",
              "      <td>0</td>\n",
              "      <td>0</td>\n",
              "      <td>0</td>\n",
              "      <td>0</td>\n",
              "      <td>0</td>\n",
              "      <td>0</td>\n",
              "      <td>0</td>\n",
              "      <td>0</td>\n",
              "      <td>0</td>\n",
              "      <td>0</td>\n",
              "    </tr>\n",
              "    <tr>\n",
              "      <th>6</th>\n",
              "      <td>0</td>\n",
              "      <td>0</td>\n",
              "      <td>0</td>\n",
              "      <td>0</td>\n",
              "      <td>0</td>\n",
              "      <td>0</td>\n",
              "      <td>0</td>\n",
              "      <td>0</td>\n",
              "      <td>0</td>\n",
              "      <td>0</td>\n",
              "      <td>0</td>\n",
              "      <td>0</td>\n",
              "      <td>0</td>\n",
              "      <td>0</td>\n",
              "      <td>0</td>\n",
              "      <td>0</td>\n",
              "      <td>0</td>\n",
              "      <td>0</td>\n",
              "      <td>0</td>\n",
              "      <td>0</td>\n",
              "      <td>0</td>\n",
              "      <td>0</td>\n",
              "      <td>0</td>\n",
              "      <td>0</td>\n",
              "      <td>0</td>\n",
              "      <td>0</td>\n",
              "      <td>0</td>\n",
              "      <td>0</td>\n",
              "    </tr>\n",
              "    <tr>\n",
              "      <th>7</th>\n",
              "      <td>0</td>\n",
              "      <td>0</td>\n",
              "      <td>0</td>\n",
              "      <td>0</td>\n",
              "      <td>0</td>\n",
              "      <td>0</td>\n",
              "      <td>0</td>\n",
              "      <td>0</td>\n",
              "      <td>0</td>\n",
              "      <td>0</td>\n",
              "      <td>0</td>\n",
              "      <td>0</td>\n",
              "      <td>0</td>\n",
              "      <td>0</td>\n",
              "      <td>0</td>\n",
              "      <td>12</td>\n",
              "      <td>56</td>\n",
              "      <td>91</td>\n",
              "      <td>113</td>\n",
              "      <td>139</td>\n",
              "      <td>162</td>\n",
              "      <td>184</td>\n",
              "      <td>103</td>\n",
              "      <td>0</td>\n",
              "      <td>0</td>\n",
              "      <td>0</td>\n",
              "      <td>0</td>\n",
              "      <td>0</td>\n",
              "    </tr>\n",
              "    <tr>\n",
              "      <th>8</th>\n",
              "      <td>0</td>\n",
              "      <td>0</td>\n",
              "      <td>0</td>\n",
              "      <td>0</td>\n",
              "      <td>0</td>\n",
              "      <td>0</td>\n",
              "      <td>0</td>\n",
              "      <td>0</td>\n",
              "      <td>0</td>\n",
              "      <td>3</td>\n",
              "      <td>38</td>\n",
              "      <td>84</td>\n",
              "      <td>129</td>\n",
              "      <td>174</td>\n",
              "      <td>220</td>\n",
              "      <td>254</td>\n",
              "      <td>255</td>\n",
              "      <td>255</td>\n",
              "      <td>255</td>\n",
              "      <td>241</td>\n",
              "      <td>238</td>\n",
              "      <td>255</td>\n",
              "      <td>115</td>\n",
              "      <td>0</td>\n",
              "      <td>0</td>\n",
              "      <td>0</td>\n",
              "      <td>0</td>\n",
              "      <td>0</td>\n",
              "    </tr>\n",
              "    <tr>\n",
              "      <th>9</th>\n",
              "      <td>0</td>\n",
              "      <td>0</td>\n",
              "      <td>0</td>\n",
              "      <td>0</td>\n",
              "      <td>0</td>\n",
              "      <td>32</td>\n",
              "      <td>111</td>\n",
              "      <td>156</td>\n",
              "      <td>203</td>\n",
              "      <td>245</td>\n",
              "      <td>255</td>\n",
              "      <td>255</td>\n",
              "      <td>249</td>\n",
              "      <td>207</td>\n",
              "      <td>162</td>\n",
              "      <td>117</td>\n",
              "      <td>71</td>\n",
              "      <td>33</td>\n",
              "      <td>9</td>\n",
              "      <td>0</td>\n",
              "      <td>164</td>\n",
              "      <td>223</td>\n",
              "      <td>2</td>\n",
              "      <td>0</td>\n",
              "      <td>0</td>\n",
              "      <td>0</td>\n",
              "      <td>0</td>\n",
              "      <td>0</td>\n",
              "    </tr>\n",
              "    <tr>\n",
              "      <th>10</th>\n",
              "      <td>0</td>\n",
              "      <td>0</td>\n",
              "      <td>0</td>\n",
              "      <td>37</td>\n",
              "      <td>158</td>\n",
              "      <td>250</td>\n",
              "      <td>255</td>\n",
              "      <td>225</td>\n",
              "      <td>180</td>\n",
              "      <td>135</td>\n",
              "      <td>89</td>\n",
              "      <td>44</td>\n",
              "      <td>45</td>\n",
              "      <td>149</td>\n",
              "      <td>203</td>\n",
              "      <td>184</td>\n",
              "      <td>165</td>\n",
              "      <td>146</td>\n",
              "      <td>126</td>\n",
              "      <td>107</td>\n",
              "      <td>205</td>\n",
              "      <td>218</td>\n",
              "      <td>0</td>\n",
              "      <td>0</td>\n",
              "      <td>0</td>\n",
              "      <td>0</td>\n",
              "      <td>0</td>\n",
              "      <td>0</td>\n",
              "    </tr>\n",
              "    <tr>\n",
              "      <th>11</th>\n",
              "      <td>0</td>\n",
              "      <td>24</td>\n",
              "      <td>164</td>\n",
              "      <td>252</td>\n",
              "      <td>242</td>\n",
              "      <td>142</td>\n",
              "      <td>84</td>\n",
              "      <td>127</td>\n",
              "      <td>145</td>\n",
              "      <td>109</td>\n",
              "      <td>12</td>\n",
              "      <td>6</td>\n",
              "      <td>234</td>\n",
              "      <td>242</td>\n",
              "      <td>178</td>\n",
              "      <td>192</td>\n",
              "      <td>211</td>\n",
              "      <td>231</td>\n",
              "      <td>250</td>\n",
              "      <td>255</td>\n",
              "      <td>255</td>\n",
              "      <td>253</td>\n",
              "      <td>21</td>\n",
              "      <td>0</td>\n",
              "      <td>0</td>\n",
              "      <td>0</td>\n",
              "      <td>0</td>\n",
              "      <td>0</td>\n",
              "    </tr>\n",
              "    <tr>\n",
              "      <th>12</th>\n",
              "      <td>0</td>\n",
              "      <td>89</td>\n",
              "      <td>255</td>\n",
              "      <td>255</td>\n",
              "      <td>226</td>\n",
              "      <td>243</td>\n",
              "      <td>255</td>\n",
              "      <td>249</td>\n",
              "      <td>232</td>\n",
              "      <td>255</td>\n",
              "      <td>210</td>\n",
              "      <td>81</td>\n",
              "      <td>255</td>\n",
              "      <td>146</td>\n",
              "      <td>0</td>\n",
              "      <td>0</td>\n",
              "      <td>0</td>\n",
              "      <td>0</td>\n",
              "      <td>0</td>\n",
              "      <td>14</td>\n",
              "      <td>36</td>\n",
              "      <td>37</td>\n",
              "      <td>0</td>\n",
              "      <td>0</td>\n",
              "      <td>0</td>\n",
              "      <td>0</td>\n",
              "      <td>0</td>\n",
              "      <td>0</td>\n",
              "    </tr>\n",
              "    <tr>\n",
              "      <th>13</th>\n",
              "      <td>0</td>\n",
              "      <td>0</td>\n",
              "      <td>44</td>\n",
              "      <td>133</td>\n",
              "      <td>164</td>\n",
              "      <td>140</td>\n",
              "      <td>73</td>\n",
              "      <td>11</td>\n",
              "      <td>0</td>\n",
              "      <td>62</td>\n",
              "      <td>233</td>\n",
              "      <td>236</td>\n",
              "      <td>179</td>\n",
              "      <td>255</td>\n",
              "      <td>110</td>\n",
              "      <td>0</td>\n",
              "      <td>0</td>\n",
              "      <td>0</td>\n",
              "      <td>0</td>\n",
              "      <td>0</td>\n",
              "      <td>0</td>\n",
              "      <td>0</td>\n",
              "      <td>0</td>\n",
              "      <td>0</td>\n",
              "      <td>0</td>\n",
              "      <td>0</td>\n",
              "      <td>0</td>\n",
              "      <td>0</td>\n",
              "    </tr>\n",
              "    <tr>\n",
              "      <th>14</th>\n",
              "      <td>0</td>\n",
              "      <td>0</td>\n",
              "      <td>0</td>\n",
              "      <td>0</td>\n",
              "      <td>0</td>\n",
              "      <td>0</td>\n",
              "      <td>0</td>\n",
              "      <td>0</td>\n",
              "      <td>0</td>\n",
              "      <td>0</td>\n",
              "      <td>31</td>\n",
              "      <td>239</td>\n",
              "      <td>173</td>\n",
              "      <td>183</td>\n",
              "      <td>222</td>\n",
              "      <td>0</td>\n",
              "      <td>0</td>\n",
              "      <td>0</td>\n",
              "      <td>0</td>\n",
              "      <td>0</td>\n",
              "      <td>0</td>\n",
              "      <td>0</td>\n",
              "      <td>0</td>\n",
              "      <td>0</td>\n",
              "      <td>0</td>\n",
              "      <td>0</td>\n",
              "      <td>0</td>\n",
              "      <td>0</td>\n",
              "    </tr>\n",
              "    <tr>\n",
              "      <th>15</th>\n",
              "      <td>0</td>\n",
              "      <td>0</td>\n",
              "      <td>0</td>\n",
              "      <td>0</td>\n",
              "      <td>0</td>\n",
              "      <td>0</td>\n",
              "      <td>0</td>\n",
              "      <td>0</td>\n",
              "      <td>0</td>\n",
              "      <td>0</td>\n",
              "      <td>0</td>\n",
              "      <td>168</td>\n",
              "      <td>228</td>\n",
              "      <td>110</td>\n",
              "      <td>254</td>\n",
              "      <td>21</td>\n",
              "      <td>0</td>\n",
              "      <td>0</td>\n",
              "      <td>0</td>\n",
              "      <td>0</td>\n",
              "      <td>0</td>\n",
              "      <td>0</td>\n",
              "      <td>0</td>\n",
              "      <td>0</td>\n",
              "      <td>0</td>\n",
              "      <td>0</td>\n",
              "      <td>0</td>\n",
              "      <td>0</td>\n",
              "    </tr>\n",
              "    <tr>\n",
              "      <th>16</th>\n",
              "      <td>0</td>\n",
              "      <td>0</td>\n",
              "      <td>0</td>\n",
              "      <td>0</td>\n",
              "      <td>0</td>\n",
              "      <td>0</td>\n",
              "      <td>0</td>\n",
              "      <td>0</td>\n",
              "      <td>0</td>\n",
              "      <td>0</td>\n",
              "      <td>64</td>\n",
              "      <td>253</td>\n",
              "      <td>144</td>\n",
              "      <td>52</td>\n",
              "      <td>255</td>\n",
              "      <td>234</td>\n",
              "      <td>135</td>\n",
              "      <td>32</td>\n",
              "      <td>0</td>\n",
              "      <td>0</td>\n",
              "      <td>0</td>\n",
              "      <td>0</td>\n",
              "      <td>0</td>\n",
              "      <td>0</td>\n",
              "      <td>0</td>\n",
              "      <td>0</td>\n",
              "      <td>0</td>\n",
              "      <td>0</td>\n",
              "    </tr>\n",
              "    <tr>\n",
              "      <th>17</th>\n",
              "      <td>0</td>\n",
              "      <td>0</td>\n",
              "      <td>0</td>\n",
              "      <td>0</td>\n",
              "      <td>0</td>\n",
              "      <td>0</td>\n",
              "      <td>0</td>\n",
              "      <td>0</td>\n",
              "      <td>0</td>\n",
              "      <td>19</td>\n",
              "      <td>228</td>\n",
              "      <td>210</td>\n",
              "      <td>8</td>\n",
              "      <td>0</td>\n",
              "      <td>58</td>\n",
              "      <td>166</td>\n",
              "      <td>249</td>\n",
              "      <td>252</td>\n",
              "      <td>164</td>\n",
              "      <td>0</td>\n",
              "      <td>0</td>\n",
              "      <td>0</td>\n",
              "      <td>0</td>\n",
              "      <td>0</td>\n",
              "      <td>0</td>\n",
              "      <td>0</td>\n",
              "      <td>0</td>\n",
              "      <td>0</td>\n",
              "    </tr>\n",
              "    <tr>\n",
              "      <th>18</th>\n",
              "      <td>0</td>\n",
              "      <td>0</td>\n",
              "      <td>0</td>\n",
              "      <td>0</td>\n",
              "      <td>0</td>\n",
              "      <td>0</td>\n",
              "      <td>0</td>\n",
              "      <td>0</td>\n",
              "      <td>0</td>\n",
              "      <td>130</td>\n",
              "      <td>255</td>\n",
              "      <td>143</td>\n",
              "      <td>83</td>\n",
              "      <td>0</td>\n",
              "      <td>99</td>\n",
              "      <td>170</td>\n",
              "      <td>228</td>\n",
              "      <td>255</td>\n",
              "      <td>244</td>\n",
              "      <td>114</td>\n",
              "      <td>119</td>\n",
              "      <td>119</td>\n",
              "      <td>118</td>\n",
              "      <td>78</td>\n",
              "      <td>16</td>\n",
              "      <td>0</td>\n",
              "      <td>0</td>\n",
              "      <td>0</td>\n",
              "    </tr>\n",
              "    <tr>\n",
              "      <th>19</th>\n",
              "      <td>0</td>\n",
              "      <td>0</td>\n",
              "      <td>0</td>\n",
              "      <td>0</td>\n",
              "      <td>0</td>\n",
              "      <td>0</td>\n",
              "      <td>0</td>\n",
              "      <td>0</td>\n",
              "      <td>0</td>\n",
              "      <td>87</td>\n",
              "      <td>247</td>\n",
              "      <td>255</td>\n",
              "      <td>230</td>\n",
              "      <td>1</td>\n",
              "      <td>231</td>\n",
              "      <td>255</td>\n",
              "      <td>255</td>\n",
              "      <td>255</td>\n",
              "      <td>255</td>\n",
              "      <td>255</td>\n",
              "      <td>255</td>\n",
              "      <td>255</td>\n",
              "      <td>255</td>\n",
              "      <td>255</td>\n",
              "      <td>252</td>\n",
              "      <td>202</td>\n",
              "      <td>54</td>\n",
              "      <td>0</td>\n",
              "    </tr>\n",
              "    <tr>\n",
              "      <th>20</th>\n",
              "      <td>0</td>\n",
              "      <td>0</td>\n",
              "      <td>0</td>\n",
              "      <td>0</td>\n",
              "      <td>0</td>\n",
              "      <td>0</td>\n",
              "      <td>0</td>\n",
              "      <td>0</td>\n",
              "      <td>0</td>\n",
              "      <td>0</td>\n",
              "      <td>14</td>\n",
              "      <td>21</td>\n",
              "      <td>5</td>\n",
              "      <td>0</td>\n",
              "      <td>31</td>\n",
              "      <td>78</td>\n",
              "      <td>110</td>\n",
              "      <td>106</td>\n",
              "      <td>58</td>\n",
              "      <td>19</td>\n",
              "      <td>17</td>\n",
              "      <td>17</td>\n",
              "      <td>101</td>\n",
              "      <td>203</td>\n",
              "      <td>204</td>\n",
              "      <td>200</td>\n",
              "      <td>61</td>\n",
              "      <td>0</td>\n",
              "    </tr>\n",
              "    <tr>\n",
              "      <th>21</th>\n",
              "      <td>0</td>\n",
              "      <td>0</td>\n",
              "      <td>0</td>\n",
              "      <td>0</td>\n",
              "      <td>0</td>\n",
              "      <td>0</td>\n",
              "      <td>0</td>\n",
              "      <td>0</td>\n",
              "      <td>0</td>\n",
              "      <td>0</td>\n",
              "      <td>0</td>\n",
              "      <td>0</td>\n",
              "      <td>0</td>\n",
              "      <td>0</td>\n",
              "      <td>0</td>\n",
              "      <td>0</td>\n",
              "      <td>0</td>\n",
              "      <td>0</td>\n",
              "      <td>0</td>\n",
              "      <td>0</td>\n",
              "      <td>0</td>\n",
              "      <td>0</td>\n",
              "      <td>0</td>\n",
              "      <td>0</td>\n",
              "      <td>0</td>\n",
              "      <td>0</td>\n",
              "      <td>0</td>\n",
              "      <td>0</td>\n",
              "    </tr>\n",
              "    <tr>\n",
              "      <th>22</th>\n",
              "      <td>0</td>\n",
              "      <td>0</td>\n",
              "      <td>0</td>\n",
              "      <td>0</td>\n",
              "      <td>0</td>\n",
              "      <td>0</td>\n",
              "      <td>0</td>\n",
              "      <td>0</td>\n",
              "      <td>0</td>\n",
              "      <td>0</td>\n",
              "      <td>0</td>\n",
              "      <td>0</td>\n",
              "      <td>0</td>\n",
              "      <td>0</td>\n",
              "      <td>0</td>\n",
              "      <td>0</td>\n",
              "      <td>0</td>\n",
              "      <td>0</td>\n",
              "      <td>0</td>\n",
              "      <td>0</td>\n",
              "      <td>0</td>\n",
              "      <td>0</td>\n",
              "      <td>0</td>\n",
              "      <td>0</td>\n",
              "      <td>0</td>\n",
              "      <td>0</td>\n",
              "      <td>0</td>\n",
              "      <td>0</td>\n",
              "    </tr>\n",
              "    <tr>\n",
              "      <th>23</th>\n",
              "      <td>0</td>\n",
              "      <td>0</td>\n",
              "      <td>0</td>\n",
              "      <td>0</td>\n",
              "      <td>0</td>\n",
              "      <td>0</td>\n",
              "      <td>0</td>\n",
              "      <td>0</td>\n",
              "      <td>0</td>\n",
              "      <td>0</td>\n",
              "      <td>0</td>\n",
              "      <td>0</td>\n",
              "      <td>0</td>\n",
              "      <td>0</td>\n",
              "      <td>0</td>\n",
              "      <td>0</td>\n",
              "      <td>0</td>\n",
              "      <td>0</td>\n",
              "      <td>0</td>\n",
              "      <td>0</td>\n",
              "      <td>0</td>\n",
              "      <td>0</td>\n",
              "      <td>0</td>\n",
              "      <td>0</td>\n",
              "      <td>0</td>\n",
              "      <td>0</td>\n",
              "      <td>0</td>\n",
              "      <td>0</td>\n",
              "    </tr>\n",
              "    <tr>\n",
              "      <th>24</th>\n",
              "      <td>0</td>\n",
              "      <td>0</td>\n",
              "      <td>0</td>\n",
              "      <td>0</td>\n",
              "      <td>0</td>\n",
              "      <td>0</td>\n",
              "      <td>0</td>\n",
              "      <td>0</td>\n",
              "      <td>0</td>\n",
              "      <td>0</td>\n",
              "      <td>0</td>\n",
              "      <td>0</td>\n",
              "      <td>0</td>\n",
              "      <td>0</td>\n",
              "      <td>0</td>\n",
              "      <td>0</td>\n",
              "      <td>0</td>\n",
              "      <td>0</td>\n",
              "      <td>0</td>\n",
              "      <td>0</td>\n",
              "      <td>0</td>\n",
              "      <td>0</td>\n",
              "      <td>0</td>\n",
              "      <td>0</td>\n",
              "      <td>0</td>\n",
              "      <td>0</td>\n",
              "      <td>0</td>\n",
              "      <td>0</td>\n",
              "    </tr>\n",
              "    <tr>\n",
              "      <th>25</th>\n",
              "      <td>0</td>\n",
              "      <td>0</td>\n",
              "      <td>0</td>\n",
              "      <td>0</td>\n",
              "      <td>0</td>\n",
              "      <td>0</td>\n",
              "      <td>0</td>\n",
              "      <td>0</td>\n",
              "      <td>0</td>\n",
              "      <td>0</td>\n",
              "      <td>0</td>\n",
              "      <td>0</td>\n",
              "      <td>0</td>\n",
              "      <td>0</td>\n",
              "      <td>0</td>\n",
              "      <td>0</td>\n",
              "      <td>0</td>\n",
              "      <td>0</td>\n",
              "      <td>0</td>\n",
              "      <td>0</td>\n",
              "      <td>0</td>\n",
              "      <td>0</td>\n",
              "      <td>0</td>\n",
              "      <td>0</td>\n",
              "      <td>0</td>\n",
              "      <td>0</td>\n",
              "      <td>0</td>\n",
              "      <td>0</td>\n",
              "    </tr>\n",
              "    <tr>\n",
              "      <th>26</th>\n",
              "      <td>0</td>\n",
              "      <td>0</td>\n",
              "      <td>0</td>\n",
              "      <td>0</td>\n",
              "      <td>0</td>\n",
              "      <td>0</td>\n",
              "      <td>0</td>\n",
              "      <td>0</td>\n",
              "      <td>0</td>\n",
              "      <td>0</td>\n",
              "      <td>0</td>\n",
              "      <td>0</td>\n",
              "      <td>0</td>\n",
              "      <td>0</td>\n",
              "      <td>0</td>\n",
              "      <td>0</td>\n",
              "      <td>0</td>\n",
              "      <td>0</td>\n",
              "      <td>0</td>\n",
              "      <td>0</td>\n",
              "      <td>0</td>\n",
              "      <td>0</td>\n",
              "      <td>0</td>\n",
              "      <td>0</td>\n",
              "      <td>0</td>\n",
              "      <td>0</td>\n",
              "      <td>0</td>\n",
              "      <td>0</td>\n",
              "    </tr>\n",
              "    <tr>\n",
              "      <th>27</th>\n",
              "      <td>0</td>\n",
              "      <td>0</td>\n",
              "      <td>0</td>\n",
              "      <td>0</td>\n",
              "      <td>0</td>\n",
              "      <td>0</td>\n",
              "      <td>0</td>\n",
              "      <td>0</td>\n",
              "      <td>0</td>\n",
              "      <td>0</td>\n",
              "      <td>0</td>\n",
              "      <td>0</td>\n",
              "      <td>0</td>\n",
              "      <td>0</td>\n",
              "      <td>0</td>\n",
              "      <td>0</td>\n",
              "      <td>0</td>\n",
              "      <td>0</td>\n",
              "      <td>0</td>\n",
              "      <td>0</td>\n",
              "      <td>0</td>\n",
              "      <td>0</td>\n",
              "      <td>0</td>\n",
              "      <td>0</td>\n",
              "      <td>0</td>\n",
              "      <td>0</td>\n",
              "      <td>0</td>\n",
              "      <td>0</td>\n",
              "    </tr>\n",
              "  </tbody>\n",
              "</table>\n",
              "</div>"
            ],
            "text/plain": [
              "    0   1    2    3    4    5    6    7   ...   20   21   22   23   24   25  26  27\n",
              "0    0   0    0    0    0    0    0    0  ...    0    0    0    0    0    0   0   0\n",
              "1    0   0    0    0    0    0    0    0  ...    0    0    0    0    0    0   0   0\n",
              "2    0   0    0    0    0    0    0    0  ...    0    0    0    0    0    0   0   0\n",
              "3    0   0    0    0    0    0    0    0  ...    0    0    0    0    0    0   0   0\n",
              "4    0   0    0    0    0    0    0    0  ...    0    0    0    0    0    0   0   0\n",
              "5    0   0    0    0    0    0    0    0  ...    0    0    0    0    0    0   0   0\n",
              "6    0   0    0    0    0    0    0    0  ...    0    0    0    0    0    0   0   0\n",
              "7    0   0    0    0    0    0    0    0  ...  162  184  103    0    0    0   0   0\n",
              "8    0   0    0    0    0    0    0    0  ...  238  255  115    0    0    0   0   0\n",
              "9    0   0    0    0    0   32  111  156  ...  164  223    2    0    0    0   0   0\n",
              "10   0   0    0   37  158  250  255  225  ...  205  218    0    0    0    0   0   0\n",
              "11   0  24  164  252  242  142   84  127  ...  255  253   21    0    0    0   0   0\n",
              "12   0  89  255  255  226  243  255  249  ...   36   37    0    0    0    0   0   0\n",
              "13   0   0   44  133  164  140   73   11  ...    0    0    0    0    0    0   0   0\n",
              "14   0   0    0    0    0    0    0    0  ...    0    0    0    0    0    0   0   0\n",
              "15   0   0    0    0    0    0    0    0  ...    0    0    0    0    0    0   0   0\n",
              "16   0   0    0    0    0    0    0    0  ...    0    0    0    0    0    0   0   0\n",
              "17   0   0    0    0    0    0    0    0  ...    0    0    0    0    0    0   0   0\n",
              "18   0   0    0    0    0    0    0    0  ...  119  119  118   78   16    0   0   0\n",
              "19   0   0    0    0    0    0    0    0  ...  255  255  255  255  252  202  54   0\n",
              "20   0   0    0    0    0    0    0    0  ...   17   17  101  203  204  200  61   0\n",
              "21   0   0    0    0    0    0    0    0  ...    0    0    0    0    0    0   0   0\n",
              "22   0   0    0    0    0    0    0    0  ...    0    0    0    0    0    0   0   0\n",
              "23   0   0    0    0    0    0    0    0  ...    0    0    0    0    0    0   0   0\n",
              "24   0   0    0    0    0    0    0    0  ...    0    0    0    0    0    0   0   0\n",
              "25   0   0    0    0    0    0    0    0  ...    0    0    0    0    0    0   0   0\n",
              "26   0   0    0    0    0    0    0    0  ...    0    0    0    0    0    0   0   0\n",
              "27   0   0    0    0    0    0    0    0  ...    0    0    0    0    0    0   0   0\n",
              "\n",
              "[28 rows x 28 columns]"
            ]
          },
          "metadata": {},
          "execution_count": 8
        }
      ]
    },
    {
      "cell_type": "code",
      "metadata": {
        "colab": {
          "base_uri": "https://localhost:8080/"
        },
        "id": "Fi9ywTlKiZ10",
        "outputId": "98a3e4ee-180d-46b6-d8ec-1329d5347f7d"
      },
      "source": [
        "set(y)"
      ],
      "execution_count": 9,
      "outputs": [
        {
          "output_type": "execute_result",
          "data": {
            "text/plain": [
              "{0, 1, 2, 3, 4, 5, 6, 7, 8, 9}"
            ]
          },
          "metadata": {},
          "execution_count": 9
        }
      ]
    },
    {
      "cell_type": "code",
      "metadata": {
        "deletable": false,
        "nbgrader": {
          "cell_type": "code",
          "checksum": "ef20dd34df6998e0a50e394d59d58659",
          "grade": false,
          "grade_id": "cell-907b9348d7a2ebb3",
          "locked": false,
          "schema_version": 3,
          "solution": true,
          "task": false
        },
        "id": "f133nwpOLj1G"
      },
      "source": [
        "# get dim of image row vectors and save to input_dim\n",
        "\n",
        "input_dim = 784\n",
        "\n",
        "# get number of unique labels and save to n_output_nodels\n",
        "\n",
        "n_output_nodels = 10\n",
        "\n",
        "# normalize image data to values between 0 and 1 (by dividing by max pixel value)\n",
        "\n",
        "max_value = 255\n",
        "X_scaled = X.astype('float32') / max_value\n",
        "\n",
        "\n",
        "# YOUR CODE HERE\n",
        "#raise NotImplementedError()"
      ],
      "execution_count": 10,
      "outputs": []
    },
    {
      "cell_type": "code",
      "metadata": {
        "id": "vOufsWS3Lj1G"
      },
      "source": [
        "# a check on your data prep \n",
        "assert  X_scaled.max(), \"Max pixel value should be 1.0, make sure you normalize your data\""
      ],
      "execution_count": 11,
      "outputs": []
    },
    {
      "cell_type": "code",
      "metadata": {
        "deletable": false,
        "id": "zHWblzsMyNkU",
        "nbgrader": {
          "cell_type": "code",
          "checksum": "f0ba174cb72f491f73c3aa7df8ae7ac4",
          "grade": false,
          "grade_id": "cell-b7c96fc46d86725f",
          "locked": false,
          "schema_version": 3,
          "solution": true,
          "task": false
        }
      },
      "source": [
        "\"\"\"\n",
        "Make sure that you\n",
        "Determine the dimensionality of your input data by investigating X\n",
        "Normalize your input data to values between 0 and 1\n",
        "Determine the number of neurons in your output layer by investigating Y\n",
        "Select sparse_categorical_crossentropy as your loss function.\n",
        "Select sgd as your optimizer.\n",
        "Add 3 hidden layers to your model with the following number of nodes\n",
        "h1 has 500 nodes\n",
        "h2 has 250 nodes\n",
        "h3 has 100 nodes\n",
        "Set epochs to 20\n",
        "Use the validation_split command to create a training/validation dataset within the model automatically, so you don't have to do it yourself.\n",
        "Specify a percentage such as .2 in your fit statement.\n",
        "Not sure what the various parameters are for or what values to assign to them?\n",
        "\"\"\"\n",
        "\n",
        "# instantiate a sequential object and call it model, then add layers to your model\n",
        "\n",
        "model = Sequential()\n",
        "#model.add(Dense(1000, activation='relu', input_dim=input_dim ))\n",
        "model.add(Dense(500, activation='relu', input_dim=input_dim))\n",
        "model.add(Dense(250, activation='relu'))\n",
        "model.add(Dense(100, activation='relu'))\n",
        "model.add(Dense(10, activation='softmax'))\n",
        "\n",
        "# add a compile layer but don't fit your model yet \n",
        "\n",
        "model.compile(optimizer='sgd', loss='sparse_categorical_crossentropy', metrics=['accuracy'])\n",
        "\n",
        "# YOUR CODE HERE\n",
        "#raise NotImplementedError()"
      ],
      "execution_count": 12,
      "outputs": []
    },
    {
      "cell_type": "code",
      "metadata": {
        "id": "ojLnGDklLj1H",
        "colab": {
          "base_uri": "https://localhost:8080/"
        },
        "outputId": "9a8eb4c8-b497-456e-cd35-398bbf5e7879"
      },
      "source": [
        "# a check on your model architecture \n",
        "n_layers = len(model.get_config()[\"layers\"])\n",
        "for _ in model.get_config()[\"layers\"]:\n",
        "  print (_)\n",
        "assert n_layers == 5, \"You should have 5 layers: input, h1, h2, h3, and output\""
      ],
      "execution_count": 13,
      "outputs": [
        {
          "output_type": "stream",
          "name": "stdout",
          "text": [
            "{'class_name': 'InputLayer', 'config': {'batch_input_shape': (None, 784), 'dtype': 'float32', 'sparse': False, 'ragged': False, 'name': 'dense_input'}}\n",
            "{'class_name': 'Dense', 'config': {'name': 'dense', 'trainable': True, 'batch_input_shape': (None, 784), 'dtype': 'float32', 'units': 500, 'activation': 'relu', 'use_bias': True, 'kernel_initializer': {'class_name': 'GlorotUniform', 'config': {'seed': None}}, 'bias_initializer': {'class_name': 'Zeros', 'config': {}}, 'kernel_regularizer': None, 'bias_regularizer': None, 'activity_regularizer': None, 'kernel_constraint': None, 'bias_constraint': None}}\n",
            "{'class_name': 'Dense', 'config': {'name': 'dense_1', 'trainable': True, 'dtype': 'float32', 'units': 250, 'activation': 'relu', 'use_bias': True, 'kernel_initializer': {'class_name': 'GlorotUniform', 'config': {'seed': None}}, 'bias_initializer': {'class_name': 'Zeros', 'config': {}}, 'kernel_regularizer': None, 'bias_regularizer': None, 'activity_regularizer': None, 'kernel_constraint': None, 'bias_constraint': None}}\n",
            "{'class_name': 'Dense', 'config': {'name': 'dense_2', 'trainable': True, 'dtype': 'float32', 'units': 100, 'activation': 'relu', 'use_bias': True, 'kernel_initializer': {'class_name': 'GlorotUniform', 'config': {'seed': None}}, 'bias_initializer': {'class_name': 'Zeros', 'config': {}}, 'kernel_regularizer': None, 'bias_regularizer': None, 'activity_regularizer': None, 'kernel_constraint': None, 'bias_constraint': None}}\n",
            "{'class_name': 'Dense', 'config': {'name': 'dense_3', 'trainable': True, 'dtype': 'float32', 'units': 10, 'activation': 'softmax', 'use_bias': True, 'kernel_initializer': {'class_name': 'GlorotUniform', 'config': {'seed': None}}, 'bias_initializer': {'class_name': 'Zeros', 'config': {}}, 'kernel_regularizer': None, 'bias_regularizer': None, 'activity_regularizer': None, 'kernel_constraint': None, 'bias_constraint': None}}\n"
          ]
        }
      ]
    },
    {
      "cell_type": "code",
      "metadata": {
        "id": "wMK2_DtJLj1I",
        "colab": {
          "base_uri": "https://localhost:8080/"
        },
        "outputId": "2a5114c6-c713-4c27-e117-000c5774a3b0"
      },
      "source": [
        "# check out your model summary \n",
        "model.summary()"
      ],
      "execution_count": 14,
      "outputs": [
        {
          "output_type": "stream",
          "name": "stdout",
          "text": [
            "Model: \"sequential\"\n",
            "_________________________________________________________________\n",
            " Layer (type)                Output Shape              Param #   \n",
            "=================================================================\n",
            " dense (Dense)               (None, 500)               392500    \n",
            "                                                                 \n",
            " dense_1 (Dense)             (None, 250)               125250    \n",
            "                                                                 \n",
            " dense_2 (Dense)             (None, 100)               25100     \n",
            "                                                                 \n",
            " dense_3 (Dense)             (None, 10)                1010      \n",
            "                                                                 \n",
            "=================================================================\n",
            "Total params: 543,860\n",
            "Trainable params: 543,860\n",
            "Non-trainable params: 0\n",
            "_________________________________________________________________\n"
          ]
        }
      ]
    },
    {
      "cell_type": "code",
      "metadata": {
        "id": "DXTSbEiyLj1I",
        "colab": {
          "base_uri": "https://localhost:8080/"
        },
        "outputId": "b619986e-9482-4e0f-a27d-c09cf9238c4a"
      },
      "source": [
        "# fit your model and save training resuts to history \n",
        "\n",
        "epochs = 20\n",
        "history = model.fit(X_scaled, y, \n",
        "                    epochs=epochs, \n",
        "                    # test set will be generated within the model\n",
        "                    validation_split=0.2\n",
        "                   )"
      ],
      "execution_count": 15,
      "outputs": [
        {
          "output_type": "stream",
          "name": "stdout",
          "text": [
            "Epoch 1/20\n",
            "2500/2500 [==============================] - 10s 4ms/step - loss: 0.9798 - accuracy: 0.7124 - val_loss: 0.7250 - val_accuracy: 0.7911\n",
            "Epoch 2/20\n",
            "2500/2500 [==============================] - 10s 4ms/step - loss: 0.6618 - accuracy: 0.8070 - val_loss: 0.6034 - val_accuracy: 0.8208\n",
            "Epoch 3/20\n",
            "2500/2500 [==============================] - 9s 4ms/step - loss: 0.5653 - accuracy: 0.8324 - val_loss: 0.5410 - val_accuracy: 0.8382\n",
            "Epoch 4/20\n",
            "2500/2500 [==============================] - 9s 4ms/step - loss: 0.5020 - accuracy: 0.8490 - val_loss: 0.5093 - val_accuracy: 0.8478\n",
            "Epoch 5/20\n",
            "2500/2500 [==============================] - 9s 4ms/step - loss: 0.4561 - accuracy: 0.8644 - val_loss: 0.4843 - val_accuracy: 0.8556\n",
            "Epoch 6/20\n",
            "2500/2500 [==============================] - 10s 4ms/step - loss: 0.4172 - accuracy: 0.8765 - val_loss: 0.4594 - val_accuracy: 0.8620\n",
            "Epoch 7/20\n",
            "2500/2500 [==============================] - 9s 4ms/step - loss: 0.3838 - accuracy: 0.8869 - val_loss: 0.4520 - val_accuracy: 0.8665\n",
            "Epoch 8/20\n",
            "2500/2500 [==============================] - 9s 4ms/step - loss: 0.3552 - accuracy: 0.8962 - val_loss: 0.4325 - val_accuracy: 0.8735\n",
            "Epoch 9/20\n",
            "2500/2500 [==============================] - 10s 4ms/step - loss: 0.3283 - accuracy: 0.9031 - val_loss: 0.4246 - val_accuracy: 0.8759\n",
            "Epoch 10/20\n",
            "2500/2500 [==============================] - 10s 4ms/step - loss: 0.3038 - accuracy: 0.9109 - val_loss: 0.4345 - val_accuracy: 0.8752\n",
            "Epoch 11/20\n",
            "2500/2500 [==============================] - 9s 4ms/step - loss: 0.2801 - accuracy: 0.9182 - val_loss: 0.4378 - val_accuracy: 0.8748\n",
            "Epoch 12/20\n",
            "2500/2500 [==============================] - 9s 4ms/step - loss: 0.2590 - accuracy: 0.9245 - val_loss: 0.4260 - val_accuracy: 0.8773\n",
            "Epoch 13/20\n",
            "2500/2500 [==============================] - 10s 4ms/step - loss: 0.2393 - accuracy: 0.9301 - val_loss: 0.4357 - val_accuracy: 0.8794\n",
            "Epoch 14/20\n",
            "2500/2500 [==============================] - 9s 4ms/step - loss: 0.2203 - accuracy: 0.9359 - val_loss: 0.4403 - val_accuracy: 0.8781\n",
            "Epoch 15/20\n",
            "2500/2500 [==============================] - 9s 4ms/step - loss: 0.2019 - accuracy: 0.9409 - val_loss: 0.4429 - val_accuracy: 0.8781\n",
            "Epoch 16/20\n",
            "2500/2500 [==============================] - 10s 4ms/step - loss: 0.1838 - accuracy: 0.9469 - val_loss: 0.4531 - val_accuracy: 0.8774\n",
            "Epoch 17/20\n",
            "2500/2500 [==============================] - 10s 4ms/step - loss: 0.1680 - accuracy: 0.9524 - val_loss: 0.4702 - val_accuracy: 0.8751\n",
            "Epoch 18/20\n",
            "2500/2500 [==============================] - 10s 4ms/step - loss: 0.1527 - accuracy: 0.9571 - val_loss: 0.4854 - val_accuracy: 0.8723\n",
            "Epoch 19/20\n",
            "2500/2500 [==============================] - 9s 4ms/step - loss: 0.1376 - accuracy: 0.9613 - val_loss: 0.5009 - val_accuracy: 0.8745\n",
            "Epoch 20/20\n",
            "2500/2500 [==============================] - 10s 4ms/step - loss: 0.1240 - accuracy: 0.9653 - val_loss: 0.5064 - val_accuracy: 0.8746\n"
          ]
        }
      ]
    },
    {
      "cell_type": "markdown",
      "metadata": {
        "id": "b0QJURWh-9uv"
      },
      "source": [
        "----\n",
        "### Visualize the Results\n",
        "\n",
        "- Move results in `history` to a dataframe. \n",
        "- Use [**Seaborn**](https://seaborn.pydata.org/generated/seaborn.lineplot.html) to create line plots for both loss and accuracy by epoch. \n",
        "- Analyze the results and write a couple of observations. \n",
        "\n",
        "At what point should we have stopped training the model and why? "
      ]
    },
    {
      "cell_type": "code",
      "metadata": {
        "colab": {
          "base_uri": "https://localhost:8080/"
        },
        "id": "AQN5ZGGTp74t",
        "outputId": "35334261-a609-4d47-b23d-22543587ae83"
      },
      "source": [
        "type(history.history)"
      ],
      "execution_count": 16,
      "outputs": [
        {
          "output_type": "execute_result",
          "data": {
            "text/plain": [
              "dict"
            ]
          },
          "metadata": {},
          "execution_count": 16
        }
      ]
    },
    {
      "cell_type": "code",
      "metadata": {
        "deletable": false,
        "id": "ijAlzfYKAFaY",
        "nbgrader": {
          "cell_type": "code",
          "checksum": "6ef8cde40701c2ef57cf853b19455125",
          "grade": false,
          "grade_id": "cell-16e647cfc3291a01",
          "locked": false,
          "schema_version": 3,
          "solution": true,
          "task": false
        }
      },
      "source": [
        "# YOUR CODE HERE\n",
        "\n",
        "df = pd.DataFrame.from_dict(history.history).astype('float64')\n",
        "\n",
        "#raise NotImplementedError()"
      ],
      "execution_count": 21,
      "outputs": []
    },
    {
      "cell_type": "code",
      "metadata": {
        "id": "jFTzaMcALj1J"
      },
      "source": [
        "# a check on our model training\n",
        "assert df.shape[0] == 20, \"df should have the training results from 20 epochs\""
      ],
      "execution_count": 22,
      "outputs": []
    },
    {
      "cell_type": "code",
      "metadata": {
        "colab": {
          "base_uri": "https://localhost:8080/",
          "height": 260
        },
        "id": "xVK8QdOCrQXl",
        "outputId": "674ac773-2b85-4f72-80d1-ab70084655d9"
      },
      "source": [
        "df.head()"
      ],
      "execution_count": 23,
      "outputs": [
        {
          "output_type": "execute_result",
          "data": {
            "text/html": [
              "<div>\n",
              "<style scoped>\n",
              "    .dataframe tbody tr th:only-of-type {\n",
              "        vertical-align: middle;\n",
              "    }\n",
              "\n",
              "    .dataframe tbody tr th {\n",
              "        vertical-align: top;\n",
              "    }\n",
              "\n",
              "    .dataframe thead th {\n",
              "        text-align: right;\n",
              "    }\n",
              "</style>\n",
              "<table border=\"1\" class=\"dataframe\">\n",
              "  <thead>\n",
              "    <tr style=\"text-align: right;\">\n",
              "      <th></th>\n",
              "      <th>loss</th>\n",
              "      <th>accuracy</th>\n",
              "      <th>val_loss</th>\n",
              "      <th>val_accuracy</th>\n",
              "    </tr>\n",
              "  </thead>\n",
              "  <tbody>\n",
              "    <tr>\n",
              "      <th>0</th>\n",
              "      <td>0.979814</td>\n",
              "      <td>0.712412</td>\n",
              "      <td>0.725030</td>\n",
              "      <td>0.79105</td>\n",
              "    </tr>\n",
              "    <tr>\n",
              "      <th>1</th>\n",
              "      <td>0.661833</td>\n",
              "      <td>0.807012</td>\n",
              "      <td>0.603431</td>\n",
              "      <td>0.82080</td>\n",
              "    </tr>\n",
              "    <tr>\n",
              "      <th>2</th>\n",
              "      <td>0.565333</td>\n",
              "      <td>0.832350</td>\n",
              "      <td>0.541039</td>\n",
              "      <td>0.83820</td>\n",
              "    </tr>\n",
              "    <tr>\n",
              "      <th>3</th>\n",
              "      <td>0.502021</td>\n",
              "      <td>0.849025</td>\n",
              "      <td>0.509273</td>\n",
              "      <td>0.84775</td>\n",
              "    </tr>\n",
              "    <tr>\n",
              "      <th>4</th>\n",
              "      <td>0.456059</td>\n",
              "      <td>0.864350</td>\n",
              "      <td>0.484270</td>\n",
              "      <td>0.85560</td>\n",
              "    </tr>\n",
              "  </tbody>\n",
              "</table>\n",
              "</div>"
            ],
            "text/plain": [
              "       loss  accuracy  val_loss  val_accuracy\n",
              "0  0.979814  0.712412  0.725030       0.79105\n",
              "1  0.661833  0.807012  0.603431       0.82080\n",
              "2  0.565333  0.832350  0.541039       0.83820\n",
              "3  0.502021  0.849025  0.509273       0.84775\n",
              "4  0.456059  0.864350  0.484270       0.85560"
            ]
          },
          "metadata": {},
          "execution_count": 23
        }
      ]
    },
    {
      "cell_type": "code",
      "metadata": {
        "colab": {
          "base_uri": "https://localhost:8080/",
          "height": 260
        },
        "id": "bvRkKt3tujHT",
        "outputId": "24929c79-db06-4cd7-ec64-da5c4105266d"
      },
      "source": [
        "df.tail()"
      ],
      "execution_count": 25,
      "outputs": [
        {
          "output_type": "execute_result",
          "data": {
            "text/html": [
              "<div>\n",
              "<style scoped>\n",
              "    .dataframe tbody tr th:only-of-type {\n",
              "        vertical-align: middle;\n",
              "    }\n",
              "\n",
              "    .dataframe tbody tr th {\n",
              "        vertical-align: top;\n",
              "    }\n",
              "\n",
              "    .dataframe thead th {\n",
              "        text-align: right;\n",
              "    }\n",
              "</style>\n",
              "<table border=\"1\" class=\"dataframe\">\n",
              "  <thead>\n",
              "    <tr style=\"text-align: right;\">\n",
              "      <th></th>\n",
              "      <th>loss</th>\n",
              "      <th>accuracy</th>\n",
              "      <th>val_loss</th>\n",
              "      <th>val_accuracy</th>\n",
              "    </tr>\n",
              "  </thead>\n",
              "  <tbody>\n",
              "    <tr>\n",
              "      <th>15</th>\n",
              "      <td>0.183844</td>\n",
              "      <td>0.946863</td>\n",
              "      <td>0.453115</td>\n",
              "      <td>0.87740</td>\n",
              "    </tr>\n",
              "    <tr>\n",
              "      <th>16</th>\n",
              "      <td>0.168020</td>\n",
              "      <td>0.952375</td>\n",
              "      <td>0.470211</td>\n",
              "      <td>0.87505</td>\n",
              "    </tr>\n",
              "    <tr>\n",
              "      <th>17</th>\n",
              "      <td>0.152716</td>\n",
              "      <td>0.957088</td>\n",
              "      <td>0.485398</td>\n",
              "      <td>0.87235</td>\n",
              "    </tr>\n",
              "    <tr>\n",
              "      <th>18</th>\n",
              "      <td>0.137572</td>\n",
              "      <td>0.961250</td>\n",
              "      <td>0.500888</td>\n",
              "      <td>0.87450</td>\n",
              "    </tr>\n",
              "    <tr>\n",
              "      <th>19</th>\n",
              "      <td>0.124047</td>\n",
              "      <td>0.965312</td>\n",
              "      <td>0.506384</td>\n",
              "      <td>0.87460</td>\n",
              "    </tr>\n",
              "  </tbody>\n",
              "</table>\n",
              "</div>"
            ],
            "text/plain": [
              "        loss  accuracy  val_loss  val_accuracy\n",
              "15  0.183844  0.946863  0.453115       0.87740\n",
              "16  0.168020  0.952375  0.470211       0.87505\n",
              "17  0.152716  0.957088  0.485398       0.87235\n",
              "18  0.137572  0.961250  0.500888       0.87450\n",
              "19  0.124047  0.965312  0.506384       0.87460"
            ]
          },
          "metadata": {},
          "execution_count": 25
        }
      ]
    },
    {
      "cell_type": "code",
      "metadata": {
        "deletable": false,
        "nbgrader": {
          "cell_type": "code",
          "checksum": "424d241660318a72ecda935be10485d7",
          "grade": false,
          "grade_id": "cell-96dba18873c4cffc",
          "locked": false,
          "schema_version": 3,
          "solution": true,
          "task": false
        },
        "id": "i6NnocuJLj1J",
        "colab": {
          "base_uri": "https://localhost:8080/",
          "height": 266
        },
        "outputId": "9bfce5be-6241-4fe4-a544-dde8b53d6b9c"
      },
      "source": [
        "# use the plotting method in your dataframe to plot the modeling results \n",
        "\n",
        "epochs_array = [ i for i in range(epochs)]\n",
        "sns.lineplot(x=epochs_array, y=df['loss'], label='train')\n",
        "sns.lineplot(x=epochs_array, y=df['val_loss'], label='test')\n",
        "plt.grid()\n",
        "\n",
        "\n",
        "# YOUR CODE HERE\n",
        "#raise NotImplementedError()"
      ],
      "execution_count": 24,
      "outputs": [
        {
          "output_type": "display_data",
          "data": {
            "image/png": "[encoded data removed]",
            "text/plain": [
              "<Figure size 432x288 with 1 Axes>"
            ]
          },
          "metadata": {
            "needs_background": "light"
          }
        }
      ]
    },
    {
      "cell_type": "markdown",
      "metadata": {
        "id": "GmjyuTlrLj1K"
      },
      "source": [
        "### Observations \n",
        "\n",
        "Based on the plot of the training and validation loss, answer the following questions. "
      ]
    },
    {
      "cell_type": "markdown",
      "metadata": {
        "id": "NF_mrNmPLj1K"
      },
      "source": [
        "**Was our model able to learn throughout the 20 epochs? Why or why not?**"
      ]
    },
    {
      "cell_type": "markdown",
      "metadata": {
        "deletable": false,
        "nbgrader": {
          "cell_type": "markdown",
          "checksum": "b7713eb32ad3a910a58dfdb9494a9db3",
          "grade": true,
          "grade_id": "cell-820990a8232a858a",
          "locked": false,
          "points": 0,
          "schema_version": 3,
          "solution": true,
          "task": false
        },
        "id": "yL42yLWELj1K"
      },
      "source": [
        "Yes, it was able to learn throught the epoch because the loss decreased at each epoch "
      ]
    },
    {
      "cell_type": "markdown",
      "metadata": {
        "id": "_xKObFanLj1K"
      },
      "source": [
        "**Is our model overfitting? Why or why not?**"
      ]
    },
    {
      "cell_type": "markdown",
      "metadata": {
        "deletable": false,
        "nbgrader": {
          "cell_type": "markdown",
          "checksum": "1d30c64465cd35081d70578c20ecf96d",
          "grade": true,
          "grade_id": "cell-33868e7ef6e401b5",
          "locked": false,
          "points": 0,
          "schema_version": 3,
          "solution": true,
          "task": false
        },
        "id": "rx7xa4Z1Lj1L"
      },
      "source": [
        "I don't think it's overfitting since the validation score is good even though the training accuracy is significatly high on the training data "
      ]
    },
    {
      "cell_type": "markdown",
      "metadata": {
        "id": "FIvb1mftLj1L"
      },
      "source": [
        "**Could the model score benefit from additional epochs? Why or why not?**"
      ]
    },
    {
      "cell_type": "markdown",
      "metadata": {
        "deletable": false,
        "nbgrader": {
          "cell_type": "markdown",
          "checksum": "0fc2208e2c78461578fc7a05224066b8",
          "grade": true,
          "grade_id": "cell-5c883f0a3161e469",
          "locked": false,
          "points": 0,
          "schema_version": 3,
          "solution": true,
          "task": false
        },
        "id": "Ww1hBmfMLj1L"
      },
      "source": [
        "Not, additional epochs would not affect the acc scores as we see them plateauing on the plot"
      ]
    },
    {
      "cell_type": "markdown",
      "metadata": {
        "id": "MAhBrcE4yOZe"
      },
      "source": [
        "-----\n",
        "## Change Optimizers\n",
        "\n",
        "Let's compare model performance between different optimizers. \n",
        "- Build a new model, identical to the last one but using `adam` for the optimizer. \n",
        "- Visualize the training results just as we did for the last model. \n",
        "- Save modeling results to adam_history, so we don't erase the results from the previous model run"
      ]
    },
    {
      "cell_type": "code",
      "metadata": {
        "deletable": false,
        "id": "jIW_spOZ0cxy",
        "nbgrader": {
          "cell_type": "code",
          "checksum": "6d30d8c6f4521861a77c9ef04dbde904",
          "grade": false,
          "grade_id": "cell-56663c8a5e75b71f",
          "locked": false,
          "schema_version": 3,
          "solution": true,
          "task": false
        }
      },
      "source": [
        "# train same model as above but use sgd if you used adam previously (or use adam if you used sgd previously)\n",
        "\n",
        "# YOUR CODE HERE\n",
        "\n",
        "model = Sequential()\n",
        "#model.add(Dense(1000, activation='relu', input_dim=input_dim ))\n",
        "model.add(Dense(500, activation='relu', input_dim=input_dim))\n",
        "model.add(Dense(250, activation='relu'))\n",
        "model.add(Dense(100, activation='relu'))\n",
        "model.add(Dense(10, activation='softmax'))\n",
        "\n",
        "# add a compile layer but don't fit your model yet \n",
        "\n",
        "model.compile(optimizer='adam', loss='sparse_categorical_crossentropy', metrics=['accuracy'])\n",
        "\n",
        "\n",
        "#raise NotImplementedError()"
      ],
      "execution_count": 26,
      "outputs": []
    },
    {
      "cell_type": "code",
      "metadata": {
        "colab": {
          "base_uri": "https://localhost:8080/"
        },
        "id": "gO4LjWlGwm5o",
        "outputId": "301869a3-fbee-4c3c-b8e4-672625daffb5"
      },
      "source": [
        "adam_history = model.fit(X_scaled, y, \n",
        "                    epochs=epochs, \n",
        "                    # test set will be generated within the model\n",
        "                    validation_split=0.2\n",
        "                   )"
      ],
      "execution_count": 27,
      "outputs": [
        {
          "output_type": "stream",
          "name": "stdout",
          "text": [
            "Epoch 1/20\n",
            "2500/2500 [==============================] - 11s 4ms/step - loss: 0.6001 - accuracy: 0.8163 - val_loss: 0.4756 - val_accuracy: 0.8554\n",
            "Epoch 2/20\n",
            "2500/2500 [==============================] - 10s 4ms/step - loss: 0.4148 - accuracy: 0.8736 - val_loss: 0.4353 - val_accuracy: 0.8698\n",
            "Epoch 3/20\n",
            "2500/2500 [==============================] - 10s 4ms/step - loss: 0.3426 - accuracy: 0.8955 - val_loss: 0.4098 - val_accuracy: 0.8791\n",
            "Epoch 4/20\n",
            "2500/2500 [==============================] - 10s 4ms/step - loss: 0.2917 - accuracy: 0.9110 - val_loss: 0.4321 - val_accuracy: 0.8751\n",
            "Epoch 5/20\n",
            "2500/2500 [==============================] - 10s 4ms/step - loss: 0.2495 - accuracy: 0.9228 - val_loss: 0.4482 - val_accuracy: 0.8789\n",
            "Epoch 6/20\n",
            "2500/2500 [==============================] - 10s 4ms/step - loss: 0.2155 - accuracy: 0.9320 - val_loss: 0.4547 - val_accuracy: 0.8801\n",
            "Epoch 7/20\n",
            "2500/2500 [==============================] - 10s 4ms/step - loss: 0.1860 - accuracy: 0.9410 - val_loss: 0.4707 - val_accuracy: 0.8776\n",
            "Epoch 8/20\n",
            "2500/2500 [==============================] - 10s 4ms/step - loss: 0.1654 - accuracy: 0.9478 - val_loss: 0.4927 - val_accuracy: 0.8781\n",
            "Epoch 9/20\n",
            "2500/2500 [==============================] - 10s 4ms/step - loss: 0.1430 - accuracy: 0.9546 - val_loss: 0.5359 - val_accuracy: 0.8794\n",
            "Epoch 10/20\n",
            "2500/2500 [==============================] - 10s 4ms/step - loss: 0.1261 - accuracy: 0.9590 - val_loss: 0.5949 - val_accuracy: 0.8770\n",
            "Epoch 11/20\n",
            "2500/2500 [==============================] - 10s 4ms/step - loss: 0.1155 - accuracy: 0.9628 - val_loss: 0.6432 - val_accuracy: 0.8788\n",
            "Epoch 12/20\n",
            "2500/2500 [==============================] - 10s 4ms/step - loss: 0.1047 - accuracy: 0.9664 - val_loss: 0.6976 - val_accuracy: 0.8765\n",
            "Epoch 13/20\n",
            "2500/2500 [==============================] - 10s 4ms/step - loss: 0.0954 - accuracy: 0.9693 - val_loss: 0.6866 - val_accuracy: 0.8777\n",
            "Epoch 14/20\n",
            "2500/2500 [==============================] - 10s 4ms/step - loss: 0.0899 - accuracy: 0.9710 - val_loss: 0.7354 - val_accuracy: 0.8753\n",
            "Epoch 15/20\n",
            "2500/2500 [==============================] - 10s 4ms/step - loss: 0.0840 - accuracy: 0.9734 - val_loss: 0.7716 - val_accuracy: 0.8710\n",
            "Epoch 16/20\n",
            "2500/2500 [==============================] - 10s 4ms/step - loss: 0.0781 - accuracy: 0.9747 - val_loss: 0.7460 - val_accuracy: 0.8778\n",
            "Epoch 17/20\n",
            "2500/2500 [==============================] - 10s 4ms/step - loss: 0.0730 - accuracy: 0.9765 - val_loss: 0.8300 - val_accuracy: 0.8781\n",
            "Epoch 18/20\n",
            "2500/2500 [==============================] - 10s 4ms/step - loss: 0.0720 - accuracy: 0.9780 - val_loss: 0.8129 - val_accuracy: 0.8759\n",
            "Epoch 19/20\n",
            "2500/2500 [==============================] - 10s 4ms/step - loss: 0.0659 - accuracy: 0.9798 - val_loss: 0.8606 - val_accuracy: 0.8757\n",
            "Epoch 20/20\n",
            "2500/2500 [==============================] - 10s 4ms/step - loss: 0.0617 - accuracy: 0.9808 - val_loss: 0.8961 - val_accuracy: 0.8748\n"
          ]
        }
      ]
    },
    {
      "cell_type": "code",
      "metadata": {
        "id": "2eCwUwfPw2XS"
      },
      "source": [
        "adam_df = pd.DataFrame.from_dict(adam_history.history).astype('float64')"
      ],
      "execution_count": 28,
      "outputs": []
    },
    {
      "cell_type": "code",
      "metadata": {
        "colab": {
          "base_uri": "https://localhost:8080/",
          "height": 266
        },
        "id": "1SLmRFvzw92h",
        "outputId": "cb7cd82b-a453-48f6-e6ff-07a0ffdfc12f"
      },
      "source": [
        "#epochs_array = [ i for i in range(epochs)]\n",
        "sns.lineplot(x=epochs_array, y=adam_df['loss'], label='train')\n",
        "sns.lineplot(x=epochs_array, y=adam_df['val_loss'], label='test')\n",
        "plt.grid()\n"
      ],
      "execution_count": 29,
      "outputs": [
        {
          "output_type": "display_data",
          "data": {
            "image/png": "[encoded data removed]",
            "text/plain": [
              "<Figure size 432x288 with 1 Axes>"
            ]
          },
          "metadata": {
            "needs_background": "light"
          }
        }
      ]
    },
    {
      "cell_type": "code",
      "metadata": {
        "id": "u9DQypQOLj1L"
      },
      "source": [
        "# a check that we're using the correct optimizer in this model\n",
        "opt_name = model.optimizer.get_config()[\"name\"]\n",
        "assert opt_name == \"Adam\", \"you need to use adam for the optimizer in this model.\""
      ],
      "execution_count": 30,
      "outputs": []
    },
    {
      "cell_type": "markdown",
      "metadata": {
        "id": "XECc5OtzLj1M"
      },
      "source": [
        "### Observations \n",
        "\n",
        "This plot should look very different from the previous plot. Based on the plot of the training and validation loss, answer the following questions. "
      ]
    },
    {
      "cell_type": "markdown",
      "metadata": {
        "id": "tK8B5CszLj1M"
      },
      "source": [
        "**Is our model overfitting? Why or why not?**"
      ]
    },
    {
      "cell_type": "markdown",
      "metadata": {
        "deletable": false,
        "nbgrader": {
          "cell_type": "markdown",
          "checksum": "fa4141497af675d227aa510feb8db732",
          "grade": true,
          "grade_id": "cell-7e524ccac970c33e",
          "locked": false,
          "points": 0,
          "schema_version": 3,
          "solution": true,
          "task": false
        },
        "id": "Fn6C8NWTLj1M"
      },
      "source": [
        "Yes, this time is overfitting since the train-test loss results are very far from each other at each passing epoch"
      ]
    },
    {
      "cell_type": "markdown",
      "metadata": {
        "id": "ygXQYH8ILj1M"
      },
      "source": [
        "**Could our model's performance improve by training on more than 20 epochs? Why or why not?**"
      ]
    },
    {
      "cell_type": "markdown",
      "metadata": {
        "deletable": false,
        "nbgrader": {
          "cell_type": "markdown",
          "checksum": "ae03b8b897eb5d052590574ab3bba839",
          "grade": true,
          "grade_id": "cell-456c40e885652955",
          "locked": false,
          "points": 0,
          "schema_version": 3,
          "solution": true,
          "task": false
        },
        "id": "Sa5SRkB1Lj1M"
      },
      "source": [
        "No, the trend is very clear, more epochs would even widen the train-test loss gap"
      ]
    },
    {
      "cell_type": "markdown",
      "metadata": {
        "id": "bNxtLggeLj1M"
      },
      "source": [
        "**Assuming that you want to stick to this model architecture, what can you do to avoid overfitting?**"
      ]
    },
    {
      "cell_type": "markdown",
      "metadata": {
        "deletable": false,
        "nbgrader": {
          "cell_type": "markdown",
          "checksum": "9f5a9393314231d3ce253363c1df1223",
          "grade": true,
          "grade_id": "cell-74d7def19c66702b",
          "locked": false,
          "points": 0,
          "schema_version": 3,
          "solution": true,
          "task": false
        },
        "id": "tfztMm3rLj1M"
      },
      "source": [
        "Setting the epoch to 3 perhaps"
      ]
    },
    {
      "cell_type": "markdown",
      "metadata": {
        "id": "ViaTP68cLj1M"
      },
      "source": [
        "------\n",
        "# Conclusion \n",
        "\n",
        "You have observed by comparing the two identical models, except for the optimizer, that the choice of the optimizer can considerably influence the training outcome of ML models in general and in neural networks in particular. \n",
        "\n",
        "You might not know \n",
        "\n",
        "- why changing the optimizer from Stochastic Gradient Descent over to Adam made a difference.\n",
        "- how Gradient Descent works \n",
        "- or that Adam is known as Adaptive Gradient Descent (i.e., is it a different version of ordinary Gradient Descent). \n",
        "\n",
        "But that's ok - tomorrow's lesson will be a deep dive into Gradient Descent. You'll learn the theory of Gradient Descent, we'll code up Gradient Descent from scratch, and we'll talk about how Adam is different from ordinary Gradient Descent. "
      ]
    },
    {
      "cell_type": "markdown",
      "metadata": {
        "id": "8v_TuVH5Lj1N"
      },
      "source": [
        "-----\n",
        "# Preparation for Tomorrow \n",
        "\n",
        "In preparation for tomorrow, you might need to watch a few videos. I say it might because you may or may not already be comfortable with multi-variate calculus. \n",
        "\n",
        "### Theory of Calculus \n",
        "The theory of Gradient Descent rests on [**the derivative from Calculus**](https://www.youtube.com/watch?v=WUvTyaaNkzM). If you've never taken a Calculus course before, or are a bit rusty, definitely watch this video in preparation for tomorrow's lesson. The takeaway here is to understand the derivative conceptually; you won't be asked to calculate any derivatives by hand. \n",
        "\n",
        "### The Gradient - a Multi-Dimensional Derivative\n",
        "Once you've watched the previous video, you will be ready to understand how to conceptualize a derivative in an N-dimensional space (where N is any number ranging from 2, 3, 4, ..., all the way to a very large number of dimensions N ). [**This video visually explains the multi-dimensional derivative called the Gradient visually**](https://www.youtube.com/watch?v=GkB4vW16QHI) - and that's the takeaway. The point of this video is to help you understand the Gradient visually using 3D surfaces. You should also know that the Gradient is made up of partial derivatives, more on this tomorrow. \n",
        "\n",
        "### Contour Maps \n",
        "It is very common to visual 3D surfaces as 2D contour maps - and we'll be making a lot of use of contour maps to understand Gradient Descent. Watch this video to [**understand the relationship between 3D surfaces and 2D contour maps.**](https://www.youtube.com/watch?v=acdX4YamDtU)\n",
        "\n",
        "### The Calculus of Backpropagation \n",
        "\n",
        "Unlike standard Sklearn ML models, neural networks use Gradient Descent and something called Backpropagatin to learn from the data. [**In order to understand how backpropagation works, you need to understand the Chain Rule in Calculus**](https://www.youtube.com/watch?v=acdX4YamDtU). The takeaway here is to understand how a partial derivative can be decomposed into a product of multiple derivatives. "
      ]
    },
    {
      "cell_type": "markdown",
      "metadata": {
        "id": "XCjBp0vTLj1N"
      },
      "source": [
        "------\n",
        "# Stretch Goals\n",
        "\n",
        "### This Section is Optional!\n",
        "\n",
        "Only after you've completed the above work and watched the recommended videos are you then encouraged to experiment with building a few more models and analyze their results. \n",
        "\n",
        "Here are some suggestions to help you get started. \n",
        "\n",
        "- Train the same model using the Sigmoid and Relu activation functions and note the difference in their learning outcomes. [**Keras docs on activation fucntions**](https://keras.io/api/layers/activations/). We'll cover the Relu activation function in Sprint 2 Module 3.\n",
        "- Train the same model using normalized and non-normalized data and note the difference in their learning outcomes. \n",
        "\n",
        "\n",
        "The objective here is to get more practice with the Keras API (i.e., building models) and run a couple of experiments to help set you up for future lessons. In order words, we'll be discussing different activation functions and the effect of normalized data on model training."
      ]
    },
    {
      "cell_type": "code",
      "metadata": {
        "id": "5F1VQLmALj1N"
      },
      "source": [
        ""
      ],
      "execution_count": null,
      "outputs": []
    },
    {
      "cell_type": "code",
      "metadata": {
        "id": "e34FH_MVLj1N"
      },
      "source": [
        ""
      ],
      "execution_count": null,
      "outputs": []
    }
  ]
}